{
 "cells": [
  {
   "cell_type": "code",
   "execution_count": 1,
   "metadata": {},
   "outputs": [
    {
     "data": {
      "text/plain": [
       "<module 'functions' from 'd:\\\\ITU\\\\Geospatial Data Science\\\\PROJECT\\\\functions.py'>"
      ]
     },
     "execution_count": 1,
     "metadata": {},
     "output_type": "execute_result"
    }
   ],
   "source": [
    "# imports\n",
    "import importlib as imp\n",
    "import geopandas as gpd\n",
    "import functions as f\n",
    "# debug\n",
    "imp.reload(f)"
   ]
  },
  {
   "cell_type": "markdown",
   "metadata": {},
   "source": [
    "### Bikeliane preprocessing"
   ]
  },
  {
   "cell_type": "code",
   "execution_count": 2,
   "metadata": {},
   "outputs": [],
   "source": [
    "bikelane_all = gpd.read_parquet('dataset/raw_unprocessed/bikelane_dk_crs_25832.parquet')"
   ]
  },
  {
   "cell_type": "code",
   "execution_count": 3,
   "metadata": {},
   "outputs": [],
   "source": [
    "test = bikelane_all.sample(20000)"
   ]
  },
  {
   "cell_type": "code",
   "execution_count": 4,
   "metadata": {},
   "outputs": [
    {
     "name": "stdout",
     "output_type": "stream",
     "text": [
      "buffer objects start\n",
      "unary union\n"
     ]
    }
   ],
   "source": [
    "t = f.buffer_and_union_and_simplify_geopandas(test,\n",
    "                                    buffer=50,\n",
    "                                    simplify_value=1,\n",
    "                                    debug=True)"
   ]
  },
  {
   "cell_type": "code",
   "execution_count": 5,
   "metadata": {},
   "outputs": [
    {
     "name": "stdout",
     "output_type": "stream",
     "text": [
      "buffer objects start\n",
      "unary union\n"
     ]
    }
   ],
   "source": [
    "METERS = [50,100]\n",
    "\n",
    "for m in METERS:\n",
    "    t = f.buffer_and_union_and_simplify_geopandas(bikelane_all,\n",
    "                                    buffer=m,\n",
    "                                    simplify_value=1,\n",
    "                                    debug=True)\n",
    "    \n",
    "    t.to_parquet(f'dataset/processed/bikelane_buffered_{m}_simplify_1_DENMAKR_CRS.parquet')\n"
   ]
  },
  {
   "cell_type": "code",
   "execution_count": null,
   "metadata": {},
   "outputs": [],
   "source": []
  }
 ],
 "metadata": {
  "kernelspec": {
   "display_name": "Python 3 (ipykernel)",
   "language": "python",
   "name": "python3"
  },
  "language_info": {
   "codemirror_mode": {
    "name": "ipython",
    "version": 3
   },
   "file_extension": ".py",
   "mimetype": "text/x-python",
   "name": "python",
   "nbconvert_exporter": "python",
   "pygments_lexer": "ipython3",
   "version": "3.12.1"
  }
 },
 "nbformat": 4,
 "nbformat_minor": 4
}
