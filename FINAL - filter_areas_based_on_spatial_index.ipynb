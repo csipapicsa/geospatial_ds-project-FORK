{
 "cells": [
  {
   "cell_type": "code",
   "execution_count": 1,
   "metadata": {},
   "outputs": [],
   "source": [
    "import geopandas as gpd\n",
    "import importlib as imp\n",
    "import functions as f\n",
    "#imp.reload(f)\n",
    "from functions import H3_INDEX_RESOLUTION, CRS, drop_duplicated_rows, keep_only_geo_objects, drop_duplicated_rows,objects_in_geodataframe\n",
    "#imp.reload(f)"
   ]
  },
  {
   "cell_type": "code",
   "execution_count": 12,
   "metadata": {},
   "outputs": [],
   "source": [
    "# forest_all_wgs84_only_polygons_2 = gpd.read_parquet('dataset/processed/forest_areas_with_bikelanes_wgs84_TEMP.parquet')\n",
    "bikelane_all_wgs84_h3_indexed = gpd.read_parquet('dataset/raw_unprocessed/bikelane_dk_WGS84_h3_indexed.parquet') \n",
    "# keep only the geometry colummn\n",
    "# forest_all_wgs84_only_polygons_2 = forest_all_wgs84_only_polygons_2[['geometry']]\n",
    "\n",
    "###### \n",
    "green_areas = gpd.read_parquet('./dataset/raw_unprocessed/green_spaces.parquet')\n",
    "green_areas = green_areas.to_crs(\"EPSG:4326\")"
   ]
  },
  {
   "cell_type": "markdown",
   "metadata": {},
   "source": [
    "### Function to filter only green spaces intersected by bike lanes"
   ]
  },
  {
   "cell_type": "code",
   "execution_count": 13,
   "metadata": {},
   "outputs": [
    {
     "name": "stderr",
     "output_type": "stream",
     "text": [
      "C:\\Users\\ginof\\AppData\\Local\\Temp\\ipykernel_28676\\1501307932.py:14: FutureWarning: Currently, index_parts defaults to True, but in the future, it will default to False to be consistent with Pandas. Use `index_parts=True` to keep the current behavior and True/False to silence the warning.\n",
      "  gdf_to_keep = gdf_to_keep.explode()\n"
     ]
    },
    {
     "name": "stdout",
     "output_type": "stream",
     "text": [
      "                                              geometry  index_right\n",
      "0 0  POLYGON ((14.80063 55.23645, 14.80093 55.23597...          NaN\n",
      "1 0  POLYGON ((15.13293 55.06081, 15.13297 55.06044...          NaN\n",
      "2 0  POLYGON ((14.81456 55.07437, 14.81545 55.07423...          NaN\n",
      "3 0  POLYGON ((14.91839 55.07100, 14.92001 55.07109...          NaN\n",
      "4 0  POLYGON ((14.70138 55.09260, 14.69825 55.09267...          NaN\n"
     ]
    }
   ],
   "source": [
    "def get_only_areas_which_are_crossed_by_bikelane(gdf_to_keep, bikelanes):\n",
    "    if gdf_to_keep.crs != bikelanes.crs:\n",
    "        raise Exception(\"CRS mismatch. Please make sure both geodataframes have the same CRS.\")\n",
    "    all_geometry_objects = objects_in_geodataframe(gdf_to_keep)\n",
    "    # drop indexies \n",
    "    gdf_to_keep = gdf_to_keep.reset_index(drop=True)\n",
    "    bikelanes = bikelanes.reset_index(drop=True)\n",
    "    # keep only geometry columns\n",
    "    gdf_to_keep = gdf_to_keep[[\"geometry\"]]\n",
    "    bikelanes = bikelanes[[\"geometry\"]]\n",
    "    if \"Point\" in all_geometry_objects or \"LineString\" in all_geometry_objects:\n",
    "        gdf_to_keep = keep_only_geo_objects(gdf_to_keep)\n",
    "    if \"MultiPolygon\" in all_geometry_objects:\n",
    "        gdf_to_keep = gdf_to_keep.explode()\n",
    "\n",
    "    if gdf_to_keep.sindex is None or bikelanes.sindex is None:\n",
    "        raise Exception(\"Spatial index missing. Please create a spatial index for both geodataframes.\")\n",
    "\n",
    "    joined_df = gpd.sjoin(\n",
    "        gdf_to_keep,\n",
    "        bikelanes,\n",
    "        how=\"left\", # options are left, right, inner or outer\n",
    "        predicate=\"intersects\", # can be contains, crosses, overlaps, within, etc.\n",
    "    )\n",
    "    print(joined_df.head())\n",
    "    joined_df.dropna(subset=['index_right'], inplace=True)\n",
    "    joined_df.drop(columns=['index_right'], inplace=True)\n",
    "    joined_df = drop_duplicated_rows(joined_df)\n",
    "    joined_df = joined_df[[\"geometry\"]]\n",
    "\n",
    "    return joined_df"
   ]
  },
  {
   "cell_type": "markdown",
   "metadata": {},
   "source": [
    "Use function to retrieve all green areas \"touched\" by bikelanes"
   ]
  },
  {
   "cell_type": "code",
   "execution_count": null,
   "metadata": {},
   "outputs": [],
   "source": [
    "green_areas = get_only_areas_which_are_crossed_by_bikelane(green_areas, bikelane_all_wgs84_h3_indexed)"
   ]
  },
  {
   "cell_type": "markdown",
   "metadata": {},
   "source": [
    "Save to file"
   ]
  },
  {
   "cell_type": "code",
   "execution_count": 14,
   "metadata": {},
   "outputs": [],
   "source": [
    "green_areas.to_parquet(\"dataset/processed/green_spaces_crossed_by_bikelane_wgs84.parquet\")"
   ]
  },
  {
   "cell_type": "markdown",
   "metadata": {},
   "source": [
    "### Reprojection\n",
    "We reproject the green areas back to Denmark's CRS, to calculate new statistics"
   ]
  },
  {
   "cell_type": "code",
   "execution_count": 15,
   "metadata": {},
   "outputs": [],
   "source": [
    "green_areas = gpd.read_parquet(\"dataset/processed/green_spaces_crossed_by_bikelane_wgs84.parquet\")"
   ]
  },
  {
   "cell_type": "code",
   "execution_count": 16,
   "metadata": {},
   "outputs": [],
   "source": [
    "green_areas = green_areas.to_crs(f.DENMARK_CRS)"
   ]
  },
  {
   "cell_type": "code",
   "execution_count": 17,
   "metadata": {},
   "outputs": [],
   "source": [
    "green_areas[\"area_square_km\"] = green_areas.geometry.area/1_000_000"
   ]
  },
  {
   "cell_type": "code",
   "execution_count": 20,
   "metadata": {},
   "outputs": [
    {
     "data": {
      "text/plain": [
       "12412.635734620239"
      ]
     },
     "execution_count": 20,
     "metadata": {},
     "output_type": "execute_result"
    }
   ],
   "source": [
    "green_areas.area_square_km.sum()"
   ]
  },
  {
   "cell_type": "code",
   "execution_count": 14,
   "metadata": {},
   "outputs": [],
   "source": [
    "temp.to_parquet(\"dataset/processed/forest_areas_crossed_by_bikelane_DK.parquet\")"
   ]
  },
  {
   "cell_type": "markdown",
   "metadata": {},
   "source": [
    "### The rest is the mess"
   ]
  },
  {
   "cell_type": "code",
   "execution_count": 8,
   "metadata": {},
   "outputs": [],
   "source": [
    "import geopandas as gpd\n",
    "from shapely.geometry import box\n",
    "\n",
    "def filter_gdf_by_box(gdf, min_lon, min_lat, max_lon, max_lat):\n",
    "    \"\"\"\n",
    "    Filter a GeoDataFrame based on a bounding box defined by minimum and maximum longitude and latitude.\n",
    "    :param gdf: GeoDataFrame\n",
    "    :param min_lon: Minimum longitude\n",
    "    :param min_lat: Minimum latitude\n",
    "    :param max_lon: Maximum longitude\n",
    "    :param max_lat: Maximum latitude\n",
    "    :return: Filtered GeoDataFrame\n",
    "    \"\"\"\n",
    "    bbox = box(min_lon, min_lat, max_lon, max_lat)\n",
    "    filtered_gdf = gdf[gdf.intersects(bbox)]\n",
    "    return filtered_gdf\n"
   ]
  },
  {
   "cell_type": "code",
   "execution_count": 23,
   "metadata": {},
   "outputs": [
    {
     "name": "stdout",
     "output_type": "stream",
     "text": [
      "GeoDataFrame details:\n",
      "<class 'geopandas.geodataframe.GeoDataFrame'>\n",
      "Index: 844 entries, 186736 to 194293\n",
      "Data columns (total 1 columns):\n",
      " #   Column    Non-Null Count  Dtype   \n",
      "---  ------    --------------  -----   \n",
      " 0   geometry  844 non-null    geometry\n",
      "dtypes: geometry(1)\n",
      "memory usage: 13.2 KB\n",
      "None\n",
      "Number of duplicated rows: 0\n",
      "Memory usage (bytes): 13504\n",
      "Memory usage (MB): 0.01 MB\n",
      "Set of geometry objects: {'Polygon', 'MultiPolygon'}\n"
     ]
    },
    {
     "name": "stderr",
     "output_type": "stream",
     "text": [
      "C:\\Users\\Gergo Gyori\\AppData\\Local\\Temp\\ipykernel_24884\\958964810.py:5: FutureWarning: Currently, index_parts defaults to True, but in the future, it will default to False to be consistent with Pandas. Use `index_parts=True` to keep the current behavior and True/False to silence the warning.\n",
      "  box_forest = box_forest.explode()\n"
     ]
    }
   ],
   "source": [
    "# filter geodataframe based on box \n",
    "box_forest = filter_gdf_by_box(forest_all_wgs84_no_duplication_only_polygons, 12.5, 55.5, 15.5, 57.5)\n",
    "f.print_gdf_details(box_forest)\n",
    "box_bike = filter_gdf_by_box(bikelane_all_wgs84_h3_indexed, 12.5, 55.5, 15.5, 57.5)\n",
    "box_forest = box_forest.explode()"
   ]
  },
  {
   "cell_type": "code",
   "execution_count": 24,
   "metadata": {},
   "outputs": [
    {
     "name": "stdout",
     "output_type": "stream",
     "text": [
      "GeoDataFrame details:\n",
      "<class 'geopandas.geodataframe.GeoDataFrame'>\n",
      "MultiIndex: 860 entries, (186736, 0) to (194293, 0)\n",
      "Data columns (total 1 columns):\n",
      " #   Column    Non-Null Count  Dtype   \n",
      "---  ------    --------------  -----   \n",
      " 0   geometry  860 non-null    geometry\n",
      "dtypes: geometry(1)\n",
      "memory usage: 48.4 KB\n",
      "None\n",
      "Number of duplicated rows: 0\n",
      "Memory usage (bytes): 49520\n",
      "Memory usage (MB): 0.05 MB\n",
      "Set of geometry objects: {'Polygon'}\n"
     ]
    }
   ],
   "source": [
    "f.print_gdf_details(box_forest)"
   ]
  },
  {
   "cell_type": "code",
   "execution_count": 25,
   "metadata": {},
   "outputs": [
    {
     "name": "stderr",
     "output_type": "stream",
     "text": [
      "C:\\Users\\Gergo Gyori\\AppData\\Local\\Temp\\ipykernel_24884\\3995784108.py:1: SettingWithCopyWarning: \n",
      "A value is trying to be set on a copy of a slice from a DataFrame\n",
      "\n",
      "See the caveats in the documentation: https://pandas.pydata.org/pandas-docs/stable/user_guide/indexing.html#returning-a-view-versus-a-copy\n",
      "  box_bike.drop(columns=['h3_index'], inplace=True)\n"
     ]
    },
    {
     "name": "stdout",
     "output_type": "stream",
     "text": [
      "GeoDataFrame details:\n",
      "<class 'geopandas.geodataframe.GeoDataFrame'>\n",
      "RangeIndex: 111656 entries, 0 to 111655\n",
      "Data columns (total 1 columns):\n",
      " #   Column    Non-Null Count   Dtype   \n",
      "---  ------    --------------   -----   \n",
      " 0   geometry  111656 non-null  geometry\n",
      "dtypes: geometry(1)\n",
      "memory usage: 872.4 KB\n",
      "None\n",
      "Number of duplicated rows: 0\n",
      "Memory usage (bytes): 893380\n",
      "Memory usage (MB): 0.85 MB\n",
      "Set of geometry objects: {'LineString'}\n"
     ]
    }
   ],
   "source": [
    "box_bike.drop(columns=['h3_index'], inplace=True)\n",
    "box_bike.reset_index(drop=True, inplace=True)\n",
    "f.print_gdf_details(box_bike)"
   ]
  },
  {
   "cell_type": "code",
   "execution_count": 27,
   "metadata": {},
   "outputs": [
    {
     "name": "stdout",
     "output_type": "stream",
     "text": [
      "CPU times: total: 62.5 ms\n",
      "Wall time: 83 ms\n"
     ]
    }
   ],
   "source": [
    "%%time\n",
    "\n",
    "joined_trees_inter = gpd.sjoin(\n",
    "        box_forest,\n",
    "        box_bike,\n",
    "        how=\"left\", # options are left, right, inner or outer\n",
    "        predicate=\"intersects\", # can be contains, crosses, overlaps, within, etc.\n",
    "    )"
   ]
  },
  {
   "cell_type": "code",
   "execution_count": 28,
   "metadata": {},
   "outputs": [],
   "source": [
    "# delete rows where index_right is NaN\n",
    "joined_trees_inter.dropna(subset=['index_right'], inplace=True)"
   ]
  },
  {
   "cell_type": "code",
   "execution_count": 29,
   "metadata": {},
   "outputs": [],
   "source": [
    "joined_trees_inter.drop(columns=['index_right'], inplace=True)"
   ]
  },
  {
   "cell_type": "code",
   "execution_count": 32,
   "metadata": {},
   "outputs": [],
   "source": [
    "joined_trees_inter = drop_duplicated_rows(joined_trees_inter)"
   ]
  },
  {
   "cell_type": "code",
   "execution_count": 33,
   "metadata": {},
   "outputs": [
    {
     "name": "stdout",
     "output_type": "stream",
     "text": [
      "GeoDataFrame details:\n",
      "<class 'geopandas.geodataframe.GeoDataFrame'>\n",
      "MultiIndex: 267 entries, (186805, 0) to (194293, 0)\n",
      "Data columns (total 1 columns):\n",
      " #   Column    Non-Null Count  Dtype   \n",
      "---  ------    --------------  -----   \n",
      " 0   geometry  267 non-null    geometry\n",
      "dtypes: geometry(1)\n",
      "memory usage: 42.0 KB\n",
      "None\n",
      "Number of duplicated rows: 0\n",
      "Memory usage (bytes): 42997\n",
      "Memory usage (MB): 0.04 MB\n",
      "Set of geometry objects: {'Polygon'}\n"
     ]
    }
   ],
   "source": [
    "f.print_gdf_details(joined_trees_inter)"
   ]
  },
  {
   "cell_type": "code",
   "execution_count": 48,
   "metadata": {},
   "outputs": [
    {
     "name": "stdout",
     "output_type": "stream",
     "text": [
      "CPU times: total: 2.73 s\n",
      "Wall time: 6.88 s\n"
     ]
    }
   ],
   "source": [
    "%%time\n",
    "\n",
    "joined_trees_inter = gpd.sjoin(\n",
    "        forest_all_wgs84_no_duplication_only_polygons,\n",
    "        bikelane_all_wgs84_h3_indexed,\n",
    "        how=\"left\", # options are left, right, inner or outer\n",
    "        predicate=\"intersects\", # can be contains, crosses, overlaps, within, etc.\n",
    "    )"
   ]
  },
  {
   "cell_type": "code",
   "execution_count": 49,
   "metadata": {},
   "outputs": [],
   "source": [
    "# keep only the geometry colummn\n",
    "joined_trees_inter = joined_trees_inter[['geometry']]"
   ]
  },
  {
   "cell_type": "code",
   "execution_count": 50,
   "metadata": {},
   "outputs": [
    {
     "name": "stdout",
     "output_type": "stream",
     "text": [
      "GeoDataFrame details:\n",
      "<class 'geopandas.geodataframe.GeoDataFrame'>\n",
      "Index: 523416 entries, 0 to 212494\n",
      "Data columns (total 1 columns):\n",
      " #   Column    Non-Null Count   Dtype   \n",
      "---  ------    --------------   -----   \n",
      " 0   geometry  523416 non-null  geometry\n",
      "dtypes: geometry(1)\n",
      "memory usage: 8.0 MB\n",
      "None\n",
      "Number of duplicated rows: 330030\n",
      "Memory usage (bytes): 8374656\n",
      "Memory usage (MB): 7.99 MB\n",
      "Set of geometry objects: {'Polygon', 'MultiPolygon'}\n"
     ]
    }
   ],
   "source": [
    "f.print_gdf_details(joined_trees_inter)"
   ]
  },
  {
   "cell_type": "code",
   "execution_count": 51,
   "metadata": {},
   "outputs": [],
   "source": [
    "joined_trees_inter = joined_trees_inter.drop_duplicates(subset=['geometry'])"
   ]
  },
  {
   "cell_type": "code",
   "execution_count": 52,
   "metadata": {},
   "outputs": [
    {
     "name": "stdout",
     "output_type": "stream",
     "text": [
      "GeoDataFrame details:\n",
      "<class 'geopandas.geodataframe.GeoDataFrame'>\n",
      "Index: 193386 entries, 0 to 212494\n",
      "Data columns (total 1 columns):\n",
      " #   Column    Non-Null Count   Dtype   \n",
      "---  ------    --------------   -----   \n",
      " 0   geometry  193386 non-null  geometry\n",
      "dtypes: geometry(1)\n",
      "memory usage: 3.0 MB\n",
      "None\n",
      "Number of duplicated rows: 0\n",
      "Memory usage (bytes): 3094176\n",
      "Memory usage (MB): 2.95 MB\n",
      "Set of geometry objects: {'Polygon', 'MultiPolygon'}\n"
     ]
    }
   ],
   "source": [
    "f.print_gdf_details(joined_trees_inter)"
   ]
  }
 ],
 "metadata": {
  "kernelspec": {
   "display_name": "Python 3",
   "language": "python",
   "name": "python3"
  },
  "language_info": {
   "codemirror_mode": {
    "name": "ipython",
    "version": 3
   },
   "file_extension": ".py",
   "mimetype": "text/x-python",
   "name": "python",
   "nbconvert_exporter": "python",
   "pygments_lexer": "ipython3",
   "version": "3.10.14"
  }
 },
 "nbformat": 4,
 "nbformat_minor": 2
}
