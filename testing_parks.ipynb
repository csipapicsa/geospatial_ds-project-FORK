{
 "cells": [
  {
   "cell_type": "code",
   "execution_count": 30,
   "metadata": {},
   "outputs": [],
   "source": [
    "import osmnx as ox\n",
    "import networkx as nx"
   ]
  },
  {
   "cell_type": "code",
   "execution_count": null,
   "metadata": {},
   "outputs": [],
   "source": [
    "# Define the location (e.g., a city or an area)\n",
    "place_name = \"Copenhagen Municipality\"\n",
    "\n",
    "# Fetch the OSM data for the specified location\n",
    "bike = ox.graph_from_place(place_name, network_type='bike')"
   ]
  },
  {
   "cell_type": "code",
   "execution_count": 33,
   "metadata": {},
   "outputs": [],
   "source": [
    "key_val_pairs = {\n",
    "    \"landuse\": \"forest\",\n",
    "    \"leisure\": \"park\",\n",
    "    \"amenity\": \"graveyard\",\n",
    "    \n",
    "\n",
    "}\n",
    "\n",
    "f1 = ox.graph_from_place(place_name, custom_filter='[\"landuse\"~\"forest\"]')\n",
    "f2 = ox.graph_from_place(place_name, custom_filter='[\"leisure\"~\"park\"]')\n",
    "G = nx.compose(f1, f2)"
   ]
  },
  {
   "cell_type": "code",
   "execution_count": 34,
   "metadata": {},
   "outputs": [
    {
     "data": {
      "image/png": "[encoded data removed]",
      "text/plain": [
       "<Figure size 800x800 with 1 Axes>"
      ]
     },
     "metadata": {},
     "output_type": "display_data"
    },
    {
     "data": {
      "text/plain": [
       "(<Figure size 800x800 with 1 Axes>, <Axes: >)"
      ]
     },
     "execution_count": 34,
     "metadata": {},
     "output_type": "execute_result"
    }
   ],
   "source": [
    "ox.plot.plot_graph(G)"
   ]
  },
  {
   "cell_type": "code",
   "execution_count": null,
   "metadata": {},
   "outputs": [],
   "source": []
  }
 ],
 "metadata": {
  "kernelspec": {
   "display_name": "GDS",
   "language": "python",
   "name": "python3"
  },
  "language_info": {
   "codemirror_mode": {
    "name": "ipython",
    "version": 3
   },
   "file_extension": ".py",
   "mimetype": "text/x-python",
   "name": "python",
   "nbconvert_exporter": "python",
   "pygments_lexer": "ipython3",
   "version": "3.10.14"
  }
 },
 "nbformat": 4,
 "nbformat_minor": 2
}
