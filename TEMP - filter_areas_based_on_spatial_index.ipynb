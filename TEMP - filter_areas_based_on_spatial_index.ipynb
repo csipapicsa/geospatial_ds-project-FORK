{
 "cells": [
  {
   "cell_type": "code",
   "execution_count": 2,
   "metadata": {},
   "outputs": [
    {
     "data": {
      "text/plain": [
       "<module 'functions' from 'c:\\\\Users\\\\ginof\\\\OneDrive - ITU\\\\Documents\\\\GitHub\\\\geospatial_ds-project\\\\functions.py'>"
      ]
     },
     "execution_count": 2,
     "metadata": {},
     "output_type": "execute_result"
    }
   ],
   "source": [
    "import geopandas as gpd\n",
    "import importlib as imp\n",
    "import functions as f\n",
    "imp.reload(f)\n",
    "from functions import H3_INDEX_RESOLUTION, CRS, drop_duplicated_rows, keep_only_geo_objects, drop_duplicated_rows,objects_in_geodataframe\n",
    "imp.reload(f)"
   ]
  },
  {
   "cell_type": "code",
   "execution_count": 3,
   "metadata": {},
   "outputs": [
    {
     "ename": "FileNotFoundError",
     "evalue": "dataset/raw_unprocessed/bikelane_dk_WGS84_h3_indexed.parquet",
     "output_type": "error",
     "traceback": [
      "\u001b[1;31m---------------------------------------------------------------------------\u001b[0m",
      "\u001b[1;31mFileNotFoundError\u001b[0m                         Traceback (most recent call last)",
      "Cell \u001b[1;32mIn[3], line 2\u001b[0m\n\u001b[0;32m      1\u001b[0m \u001b[38;5;66;03m# forest_all_wgs84_only_polygons_2 = gpd.read_parquet('dataset/processed/forest_areas_with_bikelanes_wgs84_TEMP.parquet')\u001b[39;00m\n\u001b[1;32m----> 2\u001b[0m bikelane_all_wgs84_h3_indexed \u001b[38;5;241m=\u001b[39m \u001b[43mgpd\u001b[49m\u001b[38;5;241;43m.\u001b[39;49m\u001b[43mread_parquet\u001b[49m\u001b[43m(\u001b[49m\u001b[38;5;124;43m'\u001b[39;49m\u001b[38;5;124;43mdataset/raw_unprocessed/bikelane_dk_WGS84_h3_indexed.parquet\u001b[39;49m\u001b[38;5;124;43m'\u001b[39;49m\u001b[43m)\u001b[49m \n\u001b[0;32m      3\u001b[0m \u001b[38;5;66;03m# keep only the geometry colummn\u001b[39;00m\n\u001b[0;32m      4\u001b[0m \u001b[38;5;66;03m# forest_all_wgs84_only_polygons_2 = forest_all_wgs84_only_polygons_2[['geometry']]\u001b[39;00m\n\u001b[0;32m      5\u001b[0m \n\u001b[0;32m      6\u001b[0m \n\u001b[0;32m      7\u001b[0m \u001b[38;5;66;03m###### \u001b[39;00m\n\u001b[0;32m      9\u001b[0m forest_all_wgs84 \u001b[38;5;241m=\u001b[39m gpd\u001b[38;5;241m.\u001b[39mread_parquet(\u001b[38;5;124m'\u001b[39m\u001b[38;5;124m./dataset/processed/denmark_landuse_forest_crs_wgs84.parquet\u001b[39m\u001b[38;5;124m'\u001b[39m)\n",
      "File \u001b[1;32mc:\\Users\\ginof\\anaconda3\\envs\\GDS\\lib\\site-packages\\geopandas\\io\\arrow.py:604\u001b[0m, in \u001b[0;36m_read_parquet\u001b[1;34m(path, columns, storage_options, **kwargs)\u001b[0m\n\u001b[0;32m    602\u001b[0m path \u001b[38;5;241m=\u001b[39m _expand_user(path)\n\u001b[0;32m    603\u001b[0m kwargs[\u001b[38;5;124m\"\u001b[39m\u001b[38;5;124muse_pandas_metadata\u001b[39m\u001b[38;5;124m\"\u001b[39m] \u001b[38;5;241m=\u001b[39m \u001b[38;5;28;01mTrue\u001b[39;00m\n\u001b[1;32m--> 604\u001b[0m table \u001b[38;5;241m=\u001b[39m parquet\u001b[38;5;241m.\u001b[39mread_table(path, columns\u001b[38;5;241m=\u001b[39mcolumns, filesystem\u001b[38;5;241m=\u001b[39mfilesystem, \u001b[38;5;241m*\u001b[39m\u001b[38;5;241m*\u001b[39mkwargs)\n\u001b[0;32m    606\u001b[0m \u001b[38;5;66;03m# read metadata separately to get the raw Parquet FileMetaData metadata\u001b[39;00m\n\u001b[0;32m    607\u001b[0m \u001b[38;5;66;03m# (pyarrow doesn't properly exposes those in schema.metadata for files\u001b[39;00m\n\u001b[0;32m    608\u001b[0m \u001b[38;5;66;03m# created by GDAL - https://issues.apache.org/jira/browse/ARROW-16688)\u001b[39;00m\n\u001b[0;32m    609\u001b[0m metadata \u001b[38;5;241m=\u001b[39m \u001b[38;5;28;01mNone\u001b[39;00m\n",
      "File \u001b[1;32mc:\\Users\\ginof\\anaconda3\\envs\\GDS\\lib\\site-packages\\pyarrow\\parquet\\core.py:1776\u001b[0m, in \u001b[0;36mread_table\u001b[1;34m(source, columns, use_threads, schema, use_pandas_metadata, read_dictionary, memory_map, buffer_size, partitioning, filesystem, filters, use_legacy_dataset, ignore_prefixes, pre_buffer, coerce_int96_timestamp_unit, decryption_properties, thrift_string_size_limit, thrift_container_size_limit, page_checksum_verification)\u001b[0m\n\u001b[0;32m   1770\u001b[0m     warnings\u001b[38;5;241m.\u001b[39mwarn(\n\u001b[0;32m   1771\u001b[0m         \u001b[38;5;124m\"\u001b[39m\u001b[38;5;124mPassing \u001b[39m\u001b[38;5;124m'\u001b[39m\u001b[38;5;124muse_legacy_dataset\u001b[39m\u001b[38;5;124m'\u001b[39m\u001b[38;5;124m is deprecated as of pyarrow 15.0.0 \u001b[39m\u001b[38;5;124m\"\u001b[39m\n\u001b[0;32m   1772\u001b[0m         \u001b[38;5;124m\"\u001b[39m\u001b[38;5;124mand will be removed in a future version.\u001b[39m\u001b[38;5;124m\"\u001b[39m,\n\u001b[0;32m   1773\u001b[0m         \u001b[38;5;167;01mFutureWarning\u001b[39;00m, stacklevel\u001b[38;5;241m=\u001b[39m\u001b[38;5;241m2\u001b[39m)\n\u001b[0;32m   1775\u001b[0m \u001b[38;5;28;01mtry\u001b[39;00m:\n\u001b[1;32m-> 1776\u001b[0m     dataset \u001b[38;5;241m=\u001b[39m \u001b[43mParquetDataset\u001b[49m\u001b[43m(\u001b[49m\n\u001b[0;32m   1777\u001b[0m \u001b[43m        \u001b[49m\u001b[43msource\u001b[49m\u001b[43m,\u001b[49m\n\u001b[0;32m   1778\u001b[0m \u001b[43m        \u001b[49m\u001b[43mschema\u001b[49m\u001b[38;5;241;43m=\u001b[39;49m\u001b[43mschema\u001b[49m\u001b[43m,\u001b[49m\n\u001b[0;32m   1779\u001b[0m \u001b[43m        \u001b[49m\u001b[43mfilesystem\u001b[49m\u001b[38;5;241;43m=\u001b[39;49m\u001b[43mfilesystem\u001b[49m\u001b[43m,\u001b[49m\n\u001b[0;32m   1780\u001b[0m \u001b[43m        \u001b[49m\u001b[43mpartitioning\u001b[49m\u001b[38;5;241;43m=\u001b[39;49m\u001b[43mpartitioning\u001b[49m\u001b[43m,\u001b[49m\n\u001b[0;32m   1781\u001b[0m \u001b[43m        \u001b[49m\u001b[43mmemory_map\u001b[49m\u001b[38;5;241;43m=\u001b[39;49m\u001b[43mmemory_map\u001b[49m\u001b[43m,\u001b[49m\n\u001b[0;32m   1782\u001b[0m \u001b[43m        \u001b[49m\u001b[43mread_dictionary\u001b[49m\u001b[38;5;241;43m=\u001b[39;49m\u001b[43mread_dictionary\u001b[49m\u001b[43m,\u001b[49m\n\u001b[0;32m   1783\u001b[0m \u001b[43m        \u001b[49m\u001b[43mbuffer_size\u001b[49m\u001b[38;5;241;43m=\u001b[39;49m\u001b[43mbuffer_size\u001b[49m\u001b[43m,\u001b[49m\n\u001b[0;32m   1784\u001b[0m \u001b[43m        \u001b[49m\u001b[43mfilters\u001b[49m\u001b[38;5;241;43m=\u001b[39;49m\u001b[43mfilters\u001b[49m\u001b[43m,\u001b[49m\n\u001b[0;32m   1785\u001b[0m \u001b[43m        \u001b[49m\u001b[43mignore_prefixes\u001b[49m\u001b[38;5;241;43m=\u001b[39;49m\u001b[43mignore_prefixes\u001b[49m\u001b[43m,\u001b[49m\n\u001b[0;32m   1786\u001b[0m \u001b[43m        \u001b[49m\u001b[43mpre_buffer\u001b[49m\u001b[38;5;241;43m=\u001b[39;49m\u001b[43mpre_buffer\u001b[49m\u001b[43m,\u001b[49m\n\u001b[0;32m   1787\u001b[0m \u001b[43m        \u001b[49m\u001b[43mcoerce_int96_timestamp_unit\u001b[49m\u001b[38;5;241;43m=\u001b[39;49m\u001b[43mcoerce_int96_timestamp_unit\u001b[49m\u001b[43m,\u001b[49m\n\u001b[0;32m   1788\u001b[0m \u001b[43m        \u001b[49m\u001b[43mthrift_string_size_limit\u001b[49m\u001b[38;5;241;43m=\u001b[39;49m\u001b[43mthrift_string_size_limit\u001b[49m\u001b[43m,\u001b[49m\n\u001b[0;32m   1789\u001b[0m \u001b[43m        \u001b[49m\u001b[43mthrift_container_size_limit\u001b[49m\u001b[38;5;241;43m=\u001b[39;49m\u001b[43mthrift_container_size_limit\u001b[49m\u001b[43m,\u001b[49m\n\u001b[0;32m   1790\u001b[0m \u001b[43m        \u001b[49m\u001b[43mpage_checksum_verification\u001b[49m\u001b[38;5;241;43m=\u001b[39;49m\u001b[43mpage_checksum_verification\u001b[49m\u001b[43m,\u001b[49m\n\u001b[0;32m   1791\u001b[0m \u001b[43m    \u001b[49m\u001b[43m)\u001b[49m\n\u001b[0;32m   1792\u001b[0m \u001b[38;5;28;01mexcept\u001b[39;00m \u001b[38;5;167;01mImportError\u001b[39;00m:\n\u001b[0;32m   1793\u001b[0m     \u001b[38;5;66;03m# fall back on ParquetFile for simple cases when pyarrow.dataset\u001b[39;00m\n\u001b[0;32m   1794\u001b[0m     \u001b[38;5;66;03m# module is not available\u001b[39;00m\n\u001b[0;32m   1795\u001b[0m     \u001b[38;5;28;01mif\u001b[39;00m filters \u001b[38;5;129;01mis\u001b[39;00m \u001b[38;5;129;01mnot\u001b[39;00m \u001b[38;5;28;01mNone\u001b[39;00m:\n",
      "File \u001b[1;32mc:\\Users\\ginof\\anaconda3\\envs\\GDS\\lib\\site-packages\\pyarrow\\parquet\\core.py:1354\u001b[0m, in \u001b[0;36mParquetDataset.__init__\u001b[1;34m(self, path_or_paths, filesystem, schema, filters, read_dictionary, memory_map, buffer_size, partitioning, ignore_prefixes, pre_buffer, coerce_int96_timestamp_unit, decryption_properties, thrift_string_size_limit, thrift_container_size_limit, page_checksum_verification, use_legacy_dataset)\u001b[0m\n\u001b[0;32m   1350\u001b[0m \u001b[38;5;28;01mif\u001b[39;00m partitioning \u001b[38;5;241m==\u001b[39m \u001b[38;5;124m\"\u001b[39m\u001b[38;5;124mhive\u001b[39m\u001b[38;5;124m\"\u001b[39m:\n\u001b[0;32m   1351\u001b[0m     partitioning \u001b[38;5;241m=\u001b[39m ds\u001b[38;5;241m.\u001b[39mHivePartitioning\u001b[38;5;241m.\u001b[39mdiscover(\n\u001b[0;32m   1352\u001b[0m         infer_dictionary\u001b[38;5;241m=\u001b[39m\u001b[38;5;28;01mTrue\u001b[39;00m)\n\u001b[1;32m-> 1354\u001b[0m \u001b[38;5;28mself\u001b[39m\u001b[38;5;241m.\u001b[39m_dataset \u001b[38;5;241m=\u001b[39m \u001b[43mds\u001b[49m\u001b[38;5;241;43m.\u001b[39;49m\u001b[43mdataset\u001b[49m\u001b[43m(\u001b[49m\u001b[43mpath_or_paths\u001b[49m\u001b[43m,\u001b[49m\u001b[43m \u001b[49m\u001b[43mfilesystem\u001b[49m\u001b[38;5;241;43m=\u001b[39;49m\u001b[43mfilesystem\u001b[49m\u001b[43m,\u001b[49m\n\u001b[0;32m   1355\u001b[0m \u001b[43m                           \u001b[49m\u001b[43mschema\u001b[49m\u001b[38;5;241;43m=\u001b[39;49m\u001b[43mschema\u001b[49m\u001b[43m,\u001b[49m\u001b[43m \u001b[49m\u001b[38;5;28;43mformat\u001b[39;49m\u001b[38;5;241;43m=\u001b[39;49m\u001b[43mparquet_format\u001b[49m\u001b[43m,\u001b[49m\n\u001b[0;32m   1356\u001b[0m \u001b[43m                           \u001b[49m\u001b[43mpartitioning\u001b[49m\u001b[38;5;241;43m=\u001b[39;49m\u001b[43mpartitioning\u001b[49m\u001b[43m,\u001b[49m\n\u001b[0;32m   1357\u001b[0m \u001b[43m                           \u001b[49m\u001b[43mignore_prefixes\u001b[49m\u001b[38;5;241;43m=\u001b[39;49m\u001b[43mignore_prefixes\u001b[49m\u001b[43m)\u001b[49m\n",
      "File \u001b[1;32mc:\\Users\\ginof\\anaconda3\\envs\\GDS\\lib\\site-packages\\pyarrow\\dataset.py:782\u001b[0m, in \u001b[0;36mdataset\u001b[1;34m(source, schema, format, filesystem, partitioning, partition_base_dir, exclude_invalid_files, ignore_prefixes)\u001b[0m\n\u001b[0;32m    771\u001b[0m kwargs \u001b[38;5;241m=\u001b[39m \u001b[38;5;28mdict\u001b[39m(\n\u001b[0;32m    772\u001b[0m     schema\u001b[38;5;241m=\u001b[39mschema,\n\u001b[0;32m    773\u001b[0m     filesystem\u001b[38;5;241m=\u001b[39mfilesystem,\n\u001b[1;32m   (...)\u001b[0m\n\u001b[0;32m    778\u001b[0m     selector_ignore_prefixes\u001b[38;5;241m=\u001b[39mignore_prefixes\n\u001b[0;32m    779\u001b[0m )\n\u001b[0;32m    781\u001b[0m \u001b[38;5;28;01mif\u001b[39;00m _is_path_like(source):\n\u001b[1;32m--> 782\u001b[0m     \u001b[38;5;28;01mreturn\u001b[39;00m _filesystem_dataset(source, \u001b[38;5;241m*\u001b[39m\u001b[38;5;241m*\u001b[39mkwargs)\n\u001b[0;32m    783\u001b[0m \u001b[38;5;28;01melif\u001b[39;00m \u001b[38;5;28misinstance\u001b[39m(source, (\u001b[38;5;28mtuple\u001b[39m, \u001b[38;5;28mlist\u001b[39m)):\n\u001b[0;32m    784\u001b[0m     \u001b[38;5;28;01mif\u001b[39;00m \u001b[38;5;28mall\u001b[39m(_is_path_like(elem) \u001b[38;5;28;01mfor\u001b[39;00m elem \u001b[38;5;129;01min\u001b[39;00m source):\n",
      "File \u001b[1;32mc:\\Users\\ginof\\anaconda3\\envs\\GDS\\lib\\site-packages\\pyarrow\\dataset.py:465\u001b[0m, in \u001b[0;36m_filesystem_dataset\u001b[1;34m(source, schema, filesystem, partitioning, format, partition_base_dir, exclude_invalid_files, selector_ignore_prefixes)\u001b[0m\n\u001b[0;32m    463\u001b[0m     fs, paths_or_selector \u001b[38;5;241m=\u001b[39m _ensure_multiple_sources(source, filesystem)\n\u001b[0;32m    464\u001b[0m \u001b[38;5;28;01melse\u001b[39;00m:\n\u001b[1;32m--> 465\u001b[0m     fs, paths_or_selector \u001b[38;5;241m=\u001b[39m \u001b[43m_ensure_single_source\u001b[49m\u001b[43m(\u001b[49m\u001b[43msource\u001b[49m\u001b[43m,\u001b[49m\u001b[43m \u001b[49m\u001b[43mfilesystem\u001b[49m\u001b[43m)\u001b[49m\n\u001b[0;32m    467\u001b[0m options \u001b[38;5;241m=\u001b[39m FileSystemFactoryOptions(\n\u001b[0;32m    468\u001b[0m     partitioning\u001b[38;5;241m=\u001b[39mpartitioning,\n\u001b[0;32m    469\u001b[0m     partition_base_dir\u001b[38;5;241m=\u001b[39mpartition_base_dir,\n\u001b[0;32m    470\u001b[0m     exclude_invalid_files\u001b[38;5;241m=\u001b[39mexclude_invalid_files,\n\u001b[0;32m    471\u001b[0m     selector_ignore_prefixes\u001b[38;5;241m=\u001b[39mselector_ignore_prefixes\n\u001b[0;32m    472\u001b[0m )\n\u001b[0;32m    473\u001b[0m factory \u001b[38;5;241m=\u001b[39m FileSystemDatasetFactory(fs, paths_or_selector, \u001b[38;5;28mformat\u001b[39m, options)\n",
      "File \u001b[1;32mc:\\Users\\ginof\\anaconda3\\envs\\GDS\\lib\\site-packages\\pyarrow\\dataset.py:441\u001b[0m, in \u001b[0;36m_ensure_single_source\u001b[1;34m(path, filesystem)\u001b[0m\n\u001b[0;32m    439\u001b[0m     paths_or_selector \u001b[38;5;241m=\u001b[39m [path]\n\u001b[0;32m    440\u001b[0m \u001b[38;5;28;01melse\u001b[39;00m:\n\u001b[1;32m--> 441\u001b[0m     \u001b[38;5;28;01mraise\u001b[39;00m \u001b[38;5;167;01mFileNotFoundError\u001b[39;00m(path)\n\u001b[0;32m    443\u001b[0m \u001b[38;5;28;01mreturn\u001b[39;00m filesystem, paths_or_selector\n",
      "\u001b[1;31mFileNotFoundError\u001b[0m: dataset/raw_unprocessed/bikelane_dk_WGS84_h3_indexed.parquet"
     ]
    }
   ],
   "source": [
    "# forest_all_wgs84_only_polygons_2 = gpd.read_parquet('dataset/processed/forest_areas_with_bikelanes_wgs84_TEMP.parquet')\n",
    "bikelane_all_wgs84_h3_indexed = gpd.read_parquet('dataset/raw_unprocessed/bikelane_dk_WGS84_h3_indexed.parquet') \n",
    "# keep only the geometry colummn\n",
    "# forest_all_wgs84_only_polygons_2 = forest_all_wgs84_only_polygons_2[['geometry']]\n",
    "\n",
    "\n",
    "###### \n",
    "\n",
    "green_all_wgs84 = gpd.read_parquet('./dataset/raw_unprocessed/denmark_green_spaces_crs_wgs84.parquet')"
   ]
  },
  {
   "cell_type": "markdown",
   "metadata": {},
   "source": [
    "### The function"
   ]
  },
  {
   "cell_type": "code",
   "execution_count": 57,
   "metadata": {},
   "outputs": [
    {
     "name": "stderr",
     "output_type": "stream",
     "text": [
      "C:\\Users\\Gergo Gyori\\AppData\\Local\\Temp\\ipykernel_24884\\33126857.py:12: FutureWarning: Currently, index_parts defaults to True, but in the future, it will default to False to be consistent with Pandas. Use `index_parts=True` to keep the current behavior and True/False to silence the warning.\n",
      "  gdf_to_keep = gdf_to_keep.explode()\n"
     ]
    },
    {
     "name": "stdout",
     "output_type": "stream",
     "text": [
      "                                              geometry  index_right\n",
      "0 0  POLYGON ((14.78364 55.07732, 14.78309 55.07716...          NaN\n",
      "1 0  POLYGON ((14.79076 55.07818, 14.79083 55.07817...          NaN\n",
      "2 0  POLYGON ((14.78475 55.08093, 14.78753 55.08021...          NaN\n",
      "3 0  POLYGON ((14.78204 55.07241, 14.78222 55.07250...          NaN\n",
      "4 0  POLYGON ((14.79104 55.07503, 14.79077 55.07501...          NaN\n"
     ]
    }
   ],
   "source": [
    "def get_only_areas_which_are_crossed_by_bikelane(gdf_to_keep, bikelanes):\n",
    "    if gdf_to_keep.crs != bikelanes.crs:\n",
    "        raise Exception(\"CRS mismatch. Please make sure both geodataframes have the same CRS.\")\n",
    "    all_geometry_objects = objects_in_geodataframe(gdf_to_keep)\n",
    "    # drop indexies \n",
    "    gdf_to_keep = gdf_to_keep.reset_index(drop=True)\n",
    "    bikelanes = bikelanes.reset_index(drop=True)\n",
    "    # keep only geometry columns\n",
    "    gdf_to_keep = gdf_to_keep[[\"geometry\"]]\n",
    "    bikelanes = bikelanes[[\"geometry\"]]\n",
    "    if \"Point\" in all_geometry_objects or \"LineString\" in all_geometry_objects:\n",
    "        gdf_to_keep = keep_only_geo_objects(gdf_to_keep)\n",
    "    if \"MultiPolygon\" in all_geometry_objects:\n",
    "        gdf_to_keep = gdf_to_keep.explode()\n",
    "\n",
    "    if gdf_to_keep.sindex is None or bikelanes.sindex is None:\n",
    "        raise Exception(\"Spatial index missing. Please create a spatial index for both geodataframes.\")\n",
    "\n",
    "    joined_df = gpd.sjoin(\n",
    "        gdf_to_keep,\n",
    "        bikelanes,\n",
    "        how=\"left\", # options are left, right, inner or outer\n",
    "        predicate=\"intersects\", # can be contains, crosses, overlaps, within, etc.\n",
    "    )\n",
    "    print(joined_df.head())\n",
    "    joined_df.dropna(subset=['index_right'], inplace=True)\n",
    "    joined_df.drop(columns=['index_right'], inplace=True)\n",
    "    joined_df = drop_duplicated_rows(joined_df)\n",
    "    joined_df = joined_df[[\"geometry\"]]\n",
    "\n",
    "    return joined_df\n",
    "\n",
    "t = get_only_areas_which_are_crossed_by_bikelane(forest_all_wgs84, bikelane_all_wgs84_h3_indexed)"
   ]
  },
  {
   "cell_type": "code",
   "execution_count": 58,
   "metadata": {},
   "outputs": [],
   "source": [
    "t.to_parquet(\"dataset/processed/forest_areas_crossed_by_bikelane_wgs84.parquet\")"
   ]
  },
  {
   "cell_type": "markdown",
   "metadata": {},
   "source": [
    "### Reprojection, some stat"
   ]
  },
  {
   "cell_type": "code",
   "execution_count": 10,
   "metadata": {},
   "outputs": [],
   "source": [
    "temp = gpd.read_parquet(\"dataset/processed/forest_areas_crossed_by_bikelane_wgs84.parquet\")"
   ]
  },
  {
   "cell_type": "code",
   "execution_count": null,
   "metadata": {},
   "outputs": [],
   "source": []
  },
  {
   "cell_type": "code",
   "execution_count": 11,
   "metadata": {},
   "outputs": [],
   "source": [
    "temp = temp.to_crs(f.DENMARK_CRS)"
   ]
  },
  {
   "cell_type": "code",
   "execution_count": 12,
   "metadata": {},
   "outputs": [],
   "source": [
    "temp[\"area_square_km\"] = temp.geometry.area/1_000_000"
   ]
  },
  {
   "cell_type": "code",
   "execution_count": 14,
   "metadata": {},
   "outputs": [],
   "source": [
    "temp.to_parquet(\"dataset/processed/forest_areas_crossed_by_bikelane_DK.parquet\")"
   ]
  },
  {
   "cell_type": "markdown",
   "metadata": {},
   "source": [
    "### The rest is the mess"
   ]
  },
  {
   "cell_type": "code",
   "execution_count": 3,
   "metadata": {},
   "outputs": [],
   "source": []
  },
  {
   "cell_type": "code",
   "execution_count": 4,
   "metadata": {},
   "outputs": [
    {
     "name": "stdout",
     "output_type": "stream",
     "text": [
      "GeoDataFrame details:\n",
      "<class 'geopandas.geodataframe.GeoDataFrame'>\n",
      "RangeIndex: 212495 entries, 0 to 212494\n",
      "Data columns (total 1 columns):\n",
      " #   Column    Non-Null Count   Dtype   \n",
      "---  ------    --------------   -----   \n",
      " 0   geometry  212495 non-null  geometry\n",
      "dtypes: geometry(1)\n",
      "memory usage: 1.6 MB\n",
      "None\n",
      "Number of duplicated rows: 5742\n",
      "Memory usage (bytes): 1700092\n",
      "Memory usage (MB): 1.62 MB\n",
      "Set of geometry objects: {'Point', 'Polygon', 'MultiPolygon', 'LineString'}\n"
     ]
    }
   ],
   "source": [
    "f.print_gdf_details(forest_all_wgs84)"
   ]
  },
  {
   "cell_type": "code",
   "execution_count": 8,
   "metadata": {},
   "outputs": [],
   "source": [
    "import geopandas as gpd\n",
    "from shapely.geometry import box\n",
    "\n",
    "def filter_gdf_by_box(gdf, min_lon, min_lat, max_lon, max_lat):\n",
    "    \"\"\"\n",
    "    Filter a GeoDataFrame based on a bounding box defined by minimum and maximum longitude and latitude.\n",
    "    :param gdf: GeoDataFrame\n",
    "    :param min_lon: Minimum longitude\n",
    "    :param min_lat: Minimum latitude\n",
    "    :param max_lon: Maximum longitude\n",
    "    :param max_lat: Maximum latitude\n",
    "    :return: Filtered GeoDataFrame\n",
    "    \"\"\"\n",
    "    bbox = box(min_lon, min_lat, max_lon, max_lat)\n",
    "    filtered_gdf = gdf[gdf.intersects(bbox)]\n",
    "    return filtered_gdf\n"
   ]
  },
  {
   "cell_type": "code",
   "execution_count": 23,
   "metadata": {},
   "outputs": [
    {
     "name": "stdout",
     "output_type": "stream",
     "text": [
      "GeoDataFrame details:\n",
      "<class 'geopandas.geodataframe.GeoDataFrame'>\n",
      "Index: 844 entries, 186736 to 194293\n",
      "Data columns (total 1 columns):\n",
      " #   Column    Non-Null Count  Dtype   \n",
      "---  ------    --------------  -----   \n",
      " 0   geometry  844 non-null    geometry\n",
      "dtypes: geometry(1)\n",
      "memory usage: 13.2 KB\n",
      "None\n",
      "Number of duplicated rows: 0\n",
      "Memory usage (bytes): 13504\n",
      "Memory usage (MB): 0.01 MB\n",
      "Set of geometry objects: {'Polygon', 'MultiPolygon'}\n"
     ]
    },
    {
     "name": "stderr",
     "output_type": "stream",
     "text": [
      "C:\\Users\\Gergo Gyori\\AppData\\Local\\Temp\\ipykernel_24884\\958964810.py:5: FutureWarning: Currently, index_parts defaults to True, but in the future, it will default to False to be consistent with Pandas. Use `index_parts=True` to keep the current behavior and True/False to silence the warning.\n",
      "  box_forest = box_forest.explode()\n"
     ]
    }
   ],
   "source": [
    "# filter geodataframe based on box \n",
    "box_forest = filter_gdf_by_box(forest_all_wgs84_no_duplication_only_polygons, 12.5, 55.5, 15.5, 57.5)\n",
    "f.print_gdf_details(box_forest)\n",
    "box_bike = filter_gdf_by_box(bikelane_all_wgs84_h3_indexed, 12.5, 55.5, 15.5, 57.5)\n",
    "box_forest = box_forest.explode()"
   ]
  },
  {
   "cell_type": "code",
   "execution_count": 24,
   "metadata": {},
   "outputs": [
    {
     "name": "stdout",
     "output_type": "stream",
     "text": [
      "GeoDataFrame details:\n",
      "<class 'geopandas.geodataframe.GeoDataFrame'>\n",
      "MultiIndex: 860 entries, (186736, 0) to (194293, 0)\n",
      "Data columns (total 1 columns):\n",
      " #   Column    Non-Null Count  Dtype   \n",
      "---  ------    --------------  -----   \n",
      " 0   geometry  860 non-null    geometry\n",
      "dtypes: geometry(1)\n",
      "memory usage: 48.4 KB\n",
      "None\n",
      "Number of duplicated rows: 0\n",
      "Memory usage (bytes): 49520\n",
      "Memory usage (MB): 0.05 MB\n",
      "Set of geometry objects: {'Polygon'}\n"
     ]
    }
   ],
   "source": [
    "f.print_gdf_details(box_forest)"
   ]
  },
  {
   "cell_type": "code",
   "execution_count": 25,
   "metadata": {},
   "outputs": [
    {
     "name": "stderr",
     "output_type": "stream",
     "text": [
      "C:\\Users\\Gergo Gyori\\AppData\\Local\\Temp\\ipykernel_24884\\3995784108.py:1: SettingWithCopyWarning: \n",
      "A value is trying to be set on a copy of a slice from a DataFrame\n",
      "\n",
      "See the caveats in the documentation: https://pandas.pydata.org/pandas-docs/stable/user_guide/indexing.html#returning-a-view-versus-a-copy\n",
      "  box_bike.drop(columns=['h3_index'], inplace=True)\n"
     ]
    },
    {
     "name": "stdout",
     "output_type": "stream",
     "text": [
      "GeoDataFrame details:\n",
      "<class 'geopandas.geodataframe.GeoDataFrame'>\n",
      "RangeIndex: 111656 entries, 0 to 111655\n",
      "Data columns (total 1 columns):\n",
      " #   Column    Non-Null Count   Dtype   \n",
      "---  ------    --------------   -----   \n",
      " 0   geometry  111656 non-null  geometry\n",
      "dtypes: geometry(1)\n",
      "memory usage: 872.4 KB\n",
      "None\n",
      "Number of duplicated rows: 0\n",
      "Memory usage (bytes): 893380\n",
      "Memory usage (MB): 0.85 MB\n",
      "Set of geometry objects: {'LineString'}\n"
     ]
    }
   ],
   "source": [
    "box_bike.drop(columns=['h3_index'], inplace=True)\n",
    "box_bike.reset_index(drop=True, inplace=True)\n",
    "f.print_gdf_details(box_bike)"
   ]
  },
  {
   "cell_type": "code",
   "execution_count": 27,
   "metadata": {},
   "outputs": [
    {
     "name": "stdout",
     "output_type": "stream",
     "text": [
      "CPU times: total: 62.5 ms\n",
      "Wall time: 83 ms\n"
     ]
    }
   ],
   "source": [
    "%%time\n",
    "\n",
    "joined_trees_inter = gpd.sjoin(\n",
    "        box_forest,\n",
    "        box_bike,\n",
    "        how=\"left\", # options are left, right, inner or outer\n",
    "        predicate=\"intersects\", # can be contains, crosses, overlaps, within, etc.\n",
    "    )"
   ]
  },
  {
   "cell_type": "code",
   "execution_count": 28,
   "metadata": {},
   "outputs": [],
   "source": [
    "# delete rows where index_right is NaN\n",
    "joined_trees_inter.dropna(subset=['index_right'], inplace=True)"
   ]
  },
  {
   "cell_type": "code",
   "execution_count": 29,
   "metadata": {},
   "outputs": [],
   "source": [
    "joined_trees_inter.drop(columns=['index_right'], inplace=True)"
   ]
  },
  {
   "cell_type": "code",
   "execution_count": 32,
   "metadata": {},
   "outputs": [],
   "source": [
    "joined_trees_inter = drop_duplicated_rows(joined_trees_inter)"
   ]
  },
  {
   "cell_type": "code",
   "execution_count": 33,
   "metadata": {},
   "outputs": [
    {
     "name": "stdout",
     "output_type": "stream",
     "text": [
      "GeoDataFrame details:\n",
      "<class 'geopandas.geodataframe.GeoDataFrame'>\n",
      "MultiIndex: 267 entries, (186805, 0) to (194293, 0)\n",
      "Data columns (total 1 columns):\n",
      " #   Column    Non-Null Count  Dtype   \n",
      "---  ------    --------------  -----   \n",
      " 0   geometry  267 non-null    geometry\n",
      "dtypes: geometry(1)\n",
      "memory usage: 42.0 KB\n",
      "None\n",
      "Number of duplicated rows: 0\n",
      "Memory usage (bytes): 42997\n",
      "Memory usage (MB): 0.04 MB\n",
      "Set of geometry objects: {'Polygon'}\n"
     ]
    }
   ],
   "source": [
    "f.print_gdf_details(joined_trees_inter)"
   ]
  },
  {
   "cell_type": "code",
   "execution_count": 48,
   "metadata": {},
   "outputs": [
    {
     "name": "stdout",
     "output_type": "stream",
     "text": [
      "CPU times: total: 2.73 s\n",
      "Wall time: 6.88 s\n"
     ]
    }
   ],
   "source": [
    "%%time\n",
    "\n",
    "joined_trees_inter = gpd.sjoin(\n",
    "        forest_all_wgs84_no_duplication_only_polygons,\n",
    "        bikelane_all_wgs84_h3_indexed,\n",
    "        how=\"left\", # options are left, right, inner or outer\n",
    "        predicate=\"intersects\", # can be contains, crosses, overlaps, within, etc.\n",
    "    )"
   ]
  },
  {
   "cell_type": "code",
   "execution_count": 49,
   "metadata": {},
   "outputs": [],
   "source": [
    "# keep only the geometry colummn\n",
    "joined_trees_inter = joined_trees_inter[['geometry']]"
   ]
  },
  {
   "cell_type": "code",
   "execution_count": 50,
   "metadata": {},
   "outputs": [
    {
     "name": "stdout",
     "output_type": "stream",
     "text": [
      "GeoDataFrame details:\n",
      "<class 'geopandas.geodataframe.GeoDataFrame'>\n",
      "Index: 523416 entries, 0 to 212494\n",
      "Data columns (total 1 columns):\n",
      " #   Column    Non-Null Count   Dtype   \n",
      "---  ------    --------------   -----   \n",
      " 0   geometry  523416 non-null  geometry\n",
      "dtypes: geometry(1)\n",
      "memory usage: 8.0 MB\n",
      "None\n",
      "Number of duplicated rows: 330030\n",
      "Memory usage (bytes): 8374656\n",
      "Memory usage (MB): 7.99 MB\n",
      "Set of geometry objects: {'Polygon', 'MultiPolygon'}\n"
     ]
    }
   ],
   "source": [
    "f.print_gdf_details(joined_trees_inter)"
   ]
  },
  {
   "cell_type": "code",
   "execution_count": 51,
   "metadata": {},
   "outputs": [],
   "source": [
    "joined_trees_inter = joined_trees_inter.drop_duplicates(subset=['geometry'])"
   ]
  },
  {
   "cell_type": "code",
   "execution_count": 52,
   "metadata": {},
   "outputs": [
    {
     "name": "stdout",
     "output_type": "stream",
     "text": [
      "GeoDataFrame details:\n",
      "<class 'geopandas.geodataframe.GeoDataFrame'>\n",
      "Index: 193386 entries, 0 to 212494\n",
      "Data columns (total 1 columns):\n",
      " #   Column    Non-Null Count   Dtype   \n",
      "---  ------    --------------   -----   \n",
      " 0   geometry  193386 non-null  geometry\n",
      "dtypes: geometry(1)\n",
      "memory usage: 3.0 MB\n",
      "None\n",
      "Number of duplicated rows: 0\n",
      "Memory usage (bytes): 3094176\n",
      "Memory usage (MB): 2.95 MB\n",
      "Set of geometry objects: {'Polygon', 'MultiPolygon'}\n"
     ]
    }
   ],
   "source": [
    "f.print_gdf_details(joined_trees_inter)"
   ]
  }
 ],
 "metadata": {
  "kernelspec": {
   "display_name": "Python 3",
   "language": "python",
   "name": "python3"
  },
  "language_info": {
   "codemirror_mode": {
    "name": "ipython",
    "version": 3
   },
   "file_extension": ".py",
   "mimetype": "text/x-python",
   "name": "python",
   "nbconvert_exporter": "python",
   "pygments_lexer": "ipython3",
   "version": "3.10.14"
  }
 },
 "nbformat": 4,
 "nbformat_minor": 2
}
