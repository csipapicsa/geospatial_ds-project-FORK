{
 "cells": [
  {
   "cell_type": "markdown",
   "metadata": {},
   "source": [
    "### UNION DIFFERENT MAPS"
   ]
  },
  {
   "cell_type": "code",
   "execution_count": 24,
   "metadata": {},
   "outputs": [],
   "source": [
    "import geopandas as gpd\n",
    "import pandas as pd"
   ]
  },
  {
   "cell_type": "code",
   "execution_count": 19,
   "metadata": {},
   "outputs": [],
   "source": [
    "zealand = gpd.read_parquet(\"./dataset/raw_unprocessed/bikelane_zealand.parquet\")\n",
    "jylland = gpd.read_parquet(\"./dataset/raw_unprocessed/bikelane_jylland.parquet\")\n",
    "fyn = gpd.read_parquet(\"./dataset/raw_unprocessed/bikelane_fyn.parquet\")"
   ]
  },
  {
   "cell_type": "code",
   "execution_count": 25,
   "metadata": {},
   "outputs": [],
   "source": [
    "dk = pd.concat([zealand, jylland, fyn])"
   ]
  },
  {
   "cell_type": "code",
   "execution_count": 26,
   "metadata": {},
   "outputs": [
    {
     "data": {
      "text/html": [
       "<div>\n",
       "<style scoped>\n",
       "    .dataframe tbody tr th:only-of-type {\n",
       "        vertical-align: middle;\n",
       "    }\n",
       "\n",
       "    .dataframe tbody tr th {\n",
       "        vertical-align: top;\n",
       "    }\n",
       "\n",
       "    .dataframe thead th {\n",
       "        text-align: right;\n",
       "    }\n",
       "</style>\n",
       "<table border=\"1\" class=\"dataframe\">\n",
       "  <thead>\n",
       "    <tr style=\"text-align: right;\">\n",
       "      <th></th>\n",
       "      <th></th>\n",
       "      <th></th>\n",
       "      <th>geometry</th>\n",
       "    </tr>\n",
       "    <tr>\n",
       "      <th>u</th>\n",
       "      <th>v</th>\n",
       "      <th>key</th>\n",
       "      <th></th>\n",
       "    </tr>\n",
       "  </thead>\n",
       "  <tbody>\n",
       "    <tr>\n",
       "      <th rowspan=\"3\" valign=\"top\">676544</th>\n",
       "      <th>443246370</th>\n",
       "      <th>0</th>\n",
       "      <td>LINESTRING (12.21994 55.35135, 12.21919 55.34960)</td>\n",
       "    </tr>\n",
       "    <tr>\n",
       "      <th>676545</th>\n",
       "      <th>0</th>\n",
       "      <td>LINESTRING (12.21994 55.35135, 12.22056 55.35124)</td>\n",
       "    </tr>\n",
       "    <tr>\n",
       "      <th>443245726</th>\n",
       "      <th>0</th>\n",
       "      <td>LINESTRING (12.21994 55.35135, 12.22020 55.351...</td>\n",
       "    </tr>\n",
       "    <tr>\n",
       "      <th rowspan=\"2\" valign=\"top\">726713</th>\n",
       "      <th>443257088</th>\n",
       "      <th>0</th>\n",
       "      <td>LINESTRING (12.22800 55.34623, 12.22566 55.34618)</td>\n",
       "    </tr>\n",
       "    <tr>\n",
       "      <th>1478811288</th>\n",
       "      <th>0</th>\n",
       "      <td>LINESTRING (12.22800 55.34623, 12.22810 55.34556)</td>\n",
       "    </tr>\n",
       "    <tr>\n",
       "      <th>...</th>\n",
       "      <th>...</th>\n",
       "      <th>...</th>\n",
       "      <td>...</td>\n",
       "    </tr>\n",
       "    <tr>\n",
       "      <th rowspan=\"2\" valign=\"top\">11755267988</th>\n",
       "      <th>11755267989</th>\n",
       "      <th>0</th>\n",
       "      <td>LINESTRING (10.15522 55.55155, 10.15432 55.55146)</td>\n",
       "    </tr>\n",
       "    <tr>\n",
       "      <th>1722039621</th>\n",
       "      <th>0</th>\n",
       "      <td>LINESTRING (10.15522 55.55155, 10.15523 55.551...</td>\n",
       "    </tr>\n",
       "    <tr>\n",
       "      <th>11755267989</th>\n",
       "      <th>11755267988</th>\n",
       "      <th>0</th>\n",
       "      <td>LINESTRING (10.15432 55.55146, 10.15522 55.55155)</td>\n",
       "    </tr>\n",
       "    <tr>\n",
       "      <th>11755267999</th>\n",
       "      <th>1316680106</th>\n",
       "      <th>0</th>\n",
       "      <td>LINESTRING (10.12222 55.57623, 10.12257 55.576...</td>\n",
       "    </tr>\n",
       "    <tr>\n",
       "      <th>11755268000</th>\n",
       "      <th>1316680106</th>\n",
       "      <th>0</th>\n",
       "      <td>LINESTRING (10.12260 55.57816, 10.12216 55.57802)</td>\n",
       "    </tr>\n",
       "  </tbody>\n",
       "</table>\n",
       "<p>3257915 rows × 1 columns</p>\n",
       "</div>"
      ],
      "text/plain": [
       "                                                                      geometry\n",
       "u           v           key                                                   \n",
       "676544      443246370   0    LINESTRING (12.21994 55.35135, 12.21919 55.34960)\n",
       "            676545      0    LINESTRING (12.21994 55.35135, 12.22056 55.35124)\n",
       "            443245726   0    LINESTRING (12.21994 55.35135, 12.22020 55.351...\n",
       "726713      443257088   0    LINESTRING (12.22800 55.34623, 12.22566 55.34618)\n",
       "            1478811288  0    LINESTRING (12.22800 55.34623, 12.22810 55.34556)\n",
       "...                                                                        ...\n",
       "11755267988 11755267989 0    LINESTRING (10.15522 55.55155, 10.15432 55.55146)\n",
       "            1722039621  0    LINESTRING (10.15522 55.55155, 10.15523 55.551...\n",
       "11755267989 11755267988 0    LINESTRING (10.15432 55.55146, 10.15522 55.55155)\n",
       "11755267999 1316680106  0    LINESTRING (10.12222 55.57623, 10.12257 55.576...\n",
       "11755268000 1316680106  0    LINESTRING (10.12260 55.57816, 10.12216 55.57802)\n",
       "\n",
       "[3257915 rows x 1 columns]"
      ]
     },
     "execution_count": 26,
     "metadata": {},
     "output_type": "execute_result"
    }
   ],
   "source": [
    "dk"
   ]
  },
  {
   "cell_type": "code",
   "execution_count": 27,
   "metadata": {},
   "outputs": [],
   "source": [
    "dk.to_parquet(\"./dataset/raw_unprocessed/bikelane_dk.parquet\")"
   ]
  },
  {
   "cell_type": "code",
   "execution_count": null,
   "metadata": {},
   "outputs": [],
   "source": []
  }
 ],
 "metadata": {
  "kernelspec": {
   "display_name": "GDS",
   "language": "python",
   "name": "python3"
  },
  "language_info": {
   "codemirror_mode": {
    "name": "ipython",
    "version": 3
   },
   "file_extension": ".py",
   "mimetype": "text/x-python",
   "name": "python",
   "nbconvert_exporter": "python",
   "pygments_lexer": "ipython3",
   "version": "3.10.14"
  }
 },
 "nbformat": 4,
 "nbformat_minor": 2
}
