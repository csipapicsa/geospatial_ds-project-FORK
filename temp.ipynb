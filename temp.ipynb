{
 "cells": [
  {
   "cell_type": "code",
   "execution_count": 15,
   "metadata": {},
   "outputs": [],
   "source": [
    "import streamlit_functions as sf\n",
    "import importlib as imp\n",
    "import geopandas as gpd\n",
    "import functions as f\n",
    "import streamlit as st"
   ]
  },
  {
   "cell_type": "code",
   "execution_count": 6,
   "metadata": {},
   "outputs": [],
   "source": [
    "gdf = gpd.read_parquet('dataset/raw_unprocessed/forest_simplified.parquet')"
   ]
  },
  {
   "cell_type": "code",
   "execution_count": null,
   "metadata": {},
   "outputs": [],
   "source": [
    "le"
   ]
  },
  {
   "cell_type": "code",
   "execution_count": 18,
   "metadata": {},
   "outputs": [
    {
     "ename": "ValueError",
     "evalue": "",
     "output_type": "error",
     "traceback": [
      "\u001b[1;31m---------------------------------------------------------------------------\u001b[0m",
      "\u001b[1;31mValueError\u001b[0m                                Traceback (most recent call last)",
      "Cell \u001b[1;32mIn[18], line 3\u001b[0m\n\u001b[0;32m      1\u001b[0m imp\u001b[38;5;241m.\u001b[39mreload(sf)\n\u001b[0;32m      2\u001b[0m \u001b[38;5;28;01mimport\u001b[39;00m \u001b[38;5;21;01mstreamlit_functions\u001b[39;00m \u001b[38;5;28;01mas\u001b[39;00m \u001b[38;5;21;01msf\u001b[39;00m\n\u001b[1;32m----> 3\u001b[0m \u001b[43msf\u001b[49m\u001b[38;5;241;43m.\u001b[39;49m\u001b[43minitFoliumMap\u001b[49m\u001b[43m(\u001b[49m\u001b[43mgdf\u001b[49m\u001b[43m,\u001b[49m\u001b[43m \u001b[49m\u001b[43mnumber_of_elements\u001b[49m\u001b[38;5;241;43m=\u001b[39;49m\u001b[38;5;241;43m10000000\u001b[39;49m\u001b[43m)\u001b[49m\n",
      "File \u001b[1;32md:\\ITU\\Geospatial Data Science\\PROJECT\\streamlit_functions.py:43\u001b[0m, in \u001b[0;36minitFoliumMap\u001b[1;34m(gdf, number_of_elements)\u001b[0m\n\u001b[0;32m     41\u001b[0m \u001b[38;5;28;01mdef\u001b[39;00m \u001b[38;5;21minitFoliumMap\u001b[39m(gdf, number_of_elements\u001b[38;5;241m=\u001b[39m[]):\n\u001b[0;32m     42\u001b[0m     \u001b[38;5;28;01mif\u001b[39;00m number_of_elements \u001b[38;5;241m>\u001b[39m \u001b[38;5;28mlen\u001b[39m(gdf):\n\u001b[1;32m---> 43\u001b[0m         \u001b[38;5;28;01mraise\u001b[39;00m \u001b[38;5;167;01mValueError\u001b[39;00m \n\u001b[0;32m     44\u001b[0m     layers \u001b[38;5;241m=\u001b[39m {}\n\u001b[0;32m     45\u001b[0m     \u001b[38;5;66;03m# ma = folium.Map([47, 19.7], zoom_start=7, width='100%')\u001b[39;00m\n",
      "\u001b[1;31mValueError\u001b[0m: "
     ]
    }
   ],
   "source": [
    "imp.reload(sf)\n",
    "import streamlit_functions as sf\n",
    "sf.initFoliumMap(gdf, number_of_elements=10000000)"
   ]
  },
  {
   "cell_type": "code",
   "execution_count": 8,
   "metadata": {},
   "outputs": [
    {
     "data": {
      "text/html": [
       "<div>\n",
       "<style scoped>\n",
       "    .dataframe tbody tr th:only-of-type {\n",
       "        vertical-align: middle;\n",
       "    }\n",
       "\n",
       "    .dataframe tbody tr th {\n",
       "        vertical-align: top;\n",
       "    }\n",
       "\n",
       "    .dataframe thead th {\n",
       "        text-align: right;\n",
       "    }\n",
       "</style>\n",
       "<table border=\"1\" class=\"dataframe\">\n",
       "  <thead>\n",
       "    <tr style=\"text-align: right;\">\n",
       "      <th></th>\n",
       "      <th>geometry</th>\n",
       "      <th>latitude</th>\n",
       "      <th>longitude</th>\n",
       "    </tr>\n",
       "  </thead>\n",
       "  <tbody>\n",
       "    <tr>\n",
       "      <th>0</th>\n",
       "      <td>POLYGON ((501846.769 6081982.218, 501922.487 6...</td>\n",
       "      <td>6.082010e+06</td>\n",
       "      <td>501890.391843</td>\n",
       "    </tr>\n",
       "    <tr>\n",
       "      <th>1</th>\n",
       "      <td>POLYGON ((508641.502 6081264.210, 508682.375 6...</td>\n",
       "      <td>6.081309e+06</td>\n",
       "      <td>508666.436658</td>\n",
       "    </tr>\n",
       "    <tr>\n",
       "      <th>2</th>\n",
       "      <td>POLYGON ((514867.615 6078838.743, 514908.083 6...</td>\n",
       "      <td>6.078829e+06</td>\n",
       "      <td>514894.716681</td>\n",
       "    </tr>\n",
       "    <tr>\n",
       "      <th>3</th>\n",
       "      <td>POLYGON ((513639.336 6079706.596, 513640.527 6...</td>\n",
       "      <td>6.079678e+06</td>\n",
       "      <td>513650.007636</td>\n",
       "    </tr>\n",
       "    <tr>\n",
       "      <th>4</th>\n",
       "      <td>POLYGON ((515913.594 6080854.064, 516096.886 6...</td>\n",
       "      <td>6.080838e+06</td>\n",
       "      <td>516012.869095</td>\n",
       "    </tr>\n",
       "    <tr>\n",
       "      <th>...</th>\n",
       "      <td>...</td>\n",
       "      <td>...</td>\n",
       "      <td>...</td>\n",
       "    </tr>\n",
       "    <tr>\n",
       "      <th>133873</th>\n",
       "      <td>POLYGON ((452335.066 6226726.711, 452366.932 6...</td>\n",
       "      <td>6.226790e+06</td>\n",
       "      <td>452395.978422</td>\n",
       "    </tr>\n",
       "    <tr>\n",
       "      <th>133874</th>\n",
       "      <td>POLYGON ((452465.293 6227178.831, 452469.442 6...</td>\n",
       "      <td>6.227160e+06</td>\n",
       "      <td>452523.337456</td>\n",
       "    </tr>\n",
       "    <tr>\n",
       "      <th>133875</th>\n",
       "      <td>POLYGON ((450904.023 6230540.513, 450908.340 6...</td>\n",
       "      <td>6.230521e+06</td>\n",
       "      <td>450933.885352</td>\n",
       "    </tr>\n",
       "    <tr>\n",
       "      <th>133876</th>\n",
       "      <td>POLYGON ((450505.207 6228729.025, 450537.054 6...</td>\n",
       "      <td>6.228741e+06</td>\n",
       "      <td>450524.834032</td>\n",
       "    </tr>\n",
       "    <tr>\n",
       "      <th>133877</th>\n",
       "      <td>POLYGON ((446589.116 6230316.266, 446722.907 6...</td>\n",
       "      <td>6.230353e+06</td>\n",
       "      <td>446636.621480</td>\n",
       "    </tr>\n",
       "  </tbody>\n",
       "</table>\n",
       "<p>133878 rows × 3 columns</p>\n",
       "</div>"
      ],
      "text/plain": [
       "                                                 geometry      latitude  \\\n",
       "0       POLYGON ((501846.769 6081982.218, 501922.487 6...  6.082010e+06   \n",
       "1       POLYGON ((508641.502 6081264.210, 508682.375 6...  6.081309e+06   \n",
       "2       POLYGON ((514867.615 6078838.743, 514908.083 6...  6.078829e+06   \n",
       "3       POLYGON ((513639.336 6079706.596, 513640.527 6...  6.079678e+06   \n",
       "4       POLYGON ((515913.594 6080854.064, 516096.886 6...  6.080838e+06   \n",
       "...                                                   ...           ...   \n",
       "133873  POLYGON ((452335.066 6226726.711, 452366.932 6...  6.226790e+06   \n",
       "133874  POLYGON ((452465.293 6227178.831, 452469.442 6...  6.227160e+06   \n",
       "133875  POLYGON ((450904.023 6230540.513, 450908.340 6...  6.230521e+06   \n",
       "133876  POLYGON ((450505.207 6228729.025, 450537.054 6...  6.228741e+06   \n",
       "133877  POLYGON ((446589.116 6230316.266, 446722.907 6...  6.230353e+06   \n",
       "\n",
       "            longitude  \n",
       "0       501890.391843  \n",
       "1       508666.436658  \n",
       "2       514894.716681  \n",
       "3       513650.007636  \n",
       "4       516012.869095  \n",
       "...               ...  \n",
       "133873  452395.978422  \n",
       "133874  452523.337456  \n",
       "133875  450933.885352  \n",
       "133876  450524.834032  \n",
       "133877  446636.621480  \n",
       "\n",
       "[133878 rows x 3 columns]"
      ]
     },
     "execution_count": 8,
     "metadata": {},
     "output_type": "execute_result"
    }
   ],
   "source": [
    "sf.geodataframe_to_map_converter(gdf)"
   ]
  },
  {
   "cell_type": "code",
   "execution_count": 8,
   "metadata": {},
   "outputs": [],
   "source": [
    "gdf = f.open_layer_from_db(database_name='test_database.db',\n",
    "                     table_name='test',\n",
    "                     crs = f.CRS)"
   ]
  },
  {
   "cell_type": "code",
   "execution_count": 13,
   "metadata": {},
   "outputs": [
    {
     "data": {
      "text/plain": [
       "<Geographic 2D CRS: EPSG:4326>\n",
       "Name: WGS 84\n",
       "Axis Info [ellipsoidal]:\n",
       "- Lat[north]: Geodetic latitude (degree)\n",
       "- Lon[east]: Geodetic longitude (degree)\n",
       "Area of Use:\n",
       "- name: World.\n",
       "- bounds: (-180.0, -90.0, 180.0, 90.0)\n",
       "Datum: World Geodetic System 1984 ensemble\n",
       "- Ellipsoid: WGS 84\n",
       "- Prime Meridian: Greenwich"
      ]
     },
     "execution_count": 13,
     "metadata": {},
     "output_type": "execute_result"
    }
   ],
   "source": [
    "gdf.crs"
   ]
  },
  {
   "cell_type": "code",
   "execution_count": 11,
   "metadata": {},
   "outputs": [
    {
     "name": "stderr",
     "output_type": "stream",
     "text": [
      "d:\\ITU\\Geospatial Data Science\\PROJECT\\streamlit_functions.py:9: UserWarning: Geometry is in a geographic CRS. Results from 'centroid' are likely incorrect. Use 'GeoSeries.to_crs()' to re-project geometries to a projected CRS before this operation.\n",
      "\n",
      "  coordinates = gdf.geometry.centroid\n",
      "2024-03-24 15:07:23.600 \n",
      "  \u001b[33m\u001b[1mWarning:\u001b[0m to view this Streamlit app on a browser, run it with the following\n",
      "  command:\n",
      "\n",
      "    streamlit run C:\\Users\\Gergo Gyori\\AppData\\Roaming\\Python\\Python312\\site-packages\\ipykernel_launcher.py [ARGUMENTS]\n"
     ]
    },
    {
     "data": {
      "text/plain": [
       "DeltaGenerator()"
      ]
     },
     "execution_count": 11,
     "metadata": {},
     "output_type": "execute_result"
    }
   ],
   "source": [
    "st.map(sf.geodataframe_to_map_converter(gdf))"
   ]
  },
  {
   "cell_type": "code",
   "execution_count": null,
   "metadata": {},
   "outputs": [],
   "source": []
  }
 ],
 "metadata": {
  "kernelspec": {
   "display_name": "Python 3",
   "language": "python",
   "name": "python3"
  },
  "language_info": {
   "codemirror_mode": {
    "name": "ipython",
    "version": 3
   },
   "file_extension": ".py",
   "mimetype": "text/x-python",
   "name": "python",
   "nbconvert_exporter": "python",
   "pygments_lexer": "ipython3",
   "version": "3.12.1"
  }
 },
 "nbformat": 4,
 "nbformat_minor": 2
}
