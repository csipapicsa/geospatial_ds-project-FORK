{
 "cells": [
  {
   "cell_type": "code",
   "execution_count": 2,
   "metadata": {},
   "outputs": [
    {
     "data": {
      "text/plain": [
       "<module 'functions' from 'd:\\\\ITU\\\\Geospatial Data Science\\\\PROJECT\\\\functions.py'>"
      ]
     },
     "execution_count": 2,
     "metadata": {},
     "output_type": "execute_result"
    }
   ],
   "source": [
    "import streamlit_functions as sf\n",
    "import importlib as imp\n",
    "import geopandas as gpd\n",
    "import matplotlib.pyplot as plt\n",
    "import functions as f\n",
    "# debugging\n",
    "import importlib as imp\n",
    "imp.reload(f)\n",
    "\n",
    "# graph\n",
    "import networkx as nx"
   ]
  },
  {
   "cell_type": "code",
   "execution_count": 3,
   "metadata": {},
   "outputs": [],
   "source": [
    "bikelane_all = gpd.read_parquet('dataset/raw_unprocessed/bikelane_dk_crs_25832.parquet')"
   ]
  },
  {
   "cell_type": "code",
   "execution_count": 44,
   "metadata": {},
   "outputs": [],
   "source": [
    "G_edges = nx.Graph()\n",
    "\n",
    "for row in bikelane_all.itertuples():\n",
    "    # Access the MultiIndex values (u, v, key) from the Index\n",
    "    u, v, _ = row.Index\n",
    "\n",
    "    # Add nodes\n",
    "    G_edges.add_node(u)\n",
    "    G_edges.add_node(v)\n",
    "\n",
    "    # Add edge\n",
    "    G_edges.add_edge(u, v)\n"
   ]
  },
  {
   "cell_type": "code",
   "execution_count": 45,
   "metadata": {},
   "outputs": [],
   "source": [
    "# Write to GraphML\n",
    "nx.write_graphml(G_edges, 'graph.graphml')"
   ]
  },
  {
   "cell_type": "code",
   "execution_count": 6,
   "metadata": {},
   "outputs": [],
   "source": [
    "coordinates1 = [(669963.1858043118, 6156595.619894134), (666199.299537813, 6155152.20113962)] # somewhere\n",
    "coordinates2 = [(719420.4753819183, 6177679.685542446), (720676.1469959107, 6176793.722376416)] # in Copenhagen\n",
    "coordinates3 = [(716235.4790146917, 6208167.005935997), (693675.6526506029, 6101757.298274318)] # big distance"
   ]
  },
  {
   "cell_type": "code",
   "execution_count": 72,
   "metadata": {},
   "outputs": [
    {
     "data": {
      "text/plain": [
       "array([ 441698.70518066, 6072912.09409883,  728400.29103142,\n",
       "       6402147.68476988])"
      ]
     },
     "execution_count": 72,
     "metadata": {},
     "output_type": "execute_result"
    }
   ],
   "source": [
    "bikelane_all.total_bounds"
   ]
  },
  {
   "cell_type": "markdown",
   "metadata": {},
   "source": [
    "### Without indexing the below code is super slow since it loops through the whole database to find the closest bikelane"
   ]
  },
  {
   "cell_type": "code",
   "execution_count": 46,
   "metadata": {},
   "outputs": [
    {
     "name": "stdout",
     "output_type": "stream",
     "text": [
      "findd closest linestring start\n",
      "closest_lines are:\n",
      "LINESTRING (719397.7148862425 6177829.284857129, 719405.0846778937 6177801.8819245845, 719421.6396323182 6177740.2992502665, 719423.9498579694 6177731.696480225, 719435.0308848498 6177689.015741999, 719444.0791641185 6177654.18242757, 719440.0535103269 6177646.34183948)\n",
      "LINESTRING (720712.8564264507 6176820.9603884565, 720641.195113393 6176788.851636762)\n",
      "findd closest linestring end\n",
      "nearest_points end\n"
     ]
    },
    {
     "data": {
      "text/plain": [
       "\"G = nx.Graph()\\nfor index, row in bikelane_all.iterrows():\\n    p1, p2 = row['geometry'].boundary\\n    G.add_edge(p1.coords[0], p2.coords[0], weight=row['geometry'].length)\\n\\n# Find shortest path\\npath = nx.shortest_path(G, source=start_node.coords[0], target=end_node.coords[0], weight='weight')\\n\\n# Convert path to LineString\\npath_linestring = LineString(path)\\n\\n# Convert LineString to GeoDataFrame for visualization\\npath_gdf = gpd.GeoDataFrame(geometry=[path_linestring], crs=bikelane_all.crs)\""
      ]
     },
     "execution_count": 46,
     "metadata": {},
     "output_type": "execute_result"
    }
   ],
   "source": [
    "import geopandas as gpd\n",
    "import networkx as nx\n",
    "from shapely.geometry import Point, LineString\n",
    "from shapely.ops import nearest_points\n",
    "\n",
    "# Assuming 'bikelane_all' is your GeoDataFrame of bike lanes\n",
    "# and 'coordinates2' are your start and end points\n",
    "coordinates2 = [(719420.4753819183, 6177679.685542446), (720676.1469959107, 6176793.722376416)] # in Copenhagen\n",
    "# Convert points to Shapely Points\n",
    "start_point = Point(coordinates2[0])\n",
    "end_point = Point(coordinates2[1])\n",
    "\n",
    "# H6 index? \n",
    "\n",
    "# Function to find the closest LineString to a point\n",
    "print(\"findd closest linestring start\")\n",
    "\n",
    "# bikelane_all should have an extra H6 index to loop through it \n",
    "\n",
    "def find_closest_linestring(point, gdf):\n",
    "    min_dist = float('inf')\n",
    "    closest_line = None\n",
    "    for line in gdf.geometry:\n",
    "        dist = point.distance(line)\n",
    "        if dist < min_dist:\n",
    "            min_dist = dist\n",
    "            closest_line = line\n",
    "    return closest_line\n",
    "\n",
    "# Find closest LineStrings to start and end points\n",
    "closest_line_start = find_closest_linestring(start_point, bikelane_all)\n",
    "closest_line_end = find_closest_linestring(end_point, bikelane_all)\n",
    "print(\"closest_lines are:\")\n",
    "print(closest_line_start)\n",
    "print(closest_line_end)\n",
    "\n",
    "print(\"findd closest linestring end\")\n",
    "# Find closest nodes to start and end points\n",
    "start_node, _ = nearest_points(start_point, closest_line_start)\n",
    "end_node, _ = nearest_points(end_point, closest_line_end)\n",
    "print(\"nearest_points end\")\n",
    "# Convert bike lanes network to a graph\n",
    "\n",
    "\"\"\"G = nx.Graph()\n",
    "for index, row in bikelane_all.iterrows():\n",
    "    p1, p2 = row['geometry'].boundary\n",
    "    G.add_edge(p1.coords[0], p2.coords[0], weight=row['geometry'].length)\n",
    "\n",
    "# Find shortest path\n",
    "path = nx.shortest_path(G, source=start_node.coords[0], target=end_node.coords[0], weight='weight')\n",
    "\n",
    "# Convert path to LineString\n",
    "path_linestring = LineString(path)\n",
    "\n",
    "# Convert LineString to GeoDataFrame for visualization\n",
    "path_gdf = gpd.GeoDataFrame(geometry=[path_linestring], crs=bikelane_all.crs)\"\"\""
   ]
  },
  {
   "cell_type": "markdown",
   "metadata": {},
   "source": [
    "### H3 indexing"
   ]
  },
  {
   "cell_type": "code",
   "execution_count": 48,
   "metadata": {},
   "outputs": [
    {
     "name": "stdout",
     "output_type": "stream",
     "text": [
      "assign_h3_index_to_linestring\n",
      "assign_h3_index_to_linestring end\n",
      "find_closest_linestring\n",
      "find_closest_linestring end\n"
     ]
    },
    {
     "ename": "ValueError",
     "evalue": "The second input geometry is empty",
     "output_type": "error",
     "traceback": [
      "\u001b[1;31m---------------------------------------------------------------------------\u001b[0m",
      "\u001b[1;31mValueError\u001b[0m                                Traceback (most recent call last)",
      "Cell \u001b[1;32mIn[48], line 53\u001b[0m\n\u001b[0;32m     50\u001b[0m \u001b[38;5;28mprint\u001b[39m(\u001b[38;5;124m\"\u001b[39m\u001b[38;5;124mfind_closest_linestring end\u001b[39m\u001b[38;5;124m\"\u001b[39m)\n\u001b[0;32m     52\u001b[0m \u001b[38;5;66;03m# Find closest nodes to start and end points\u001b[39;00m\n\u001b[1;32m---> 53\u001b[0m start_node, _ \u001b[38;5;241m=\u001b[39m \u001b[43mnearest_points\u001b[49m\u001b[43m(\u001b[49m\u001b[43mstart_point\u001b[49m\u001b[43m,\u001b[49m\u001b[43m \u001b[49m\u001b[43mclosest_line_start\u001b[49m\u001b[43m)\u001b[49m\n\u001b[0;32m     54\u001b[0m end_node, _ \u001b[38;5;241m=\u001b[39m nearest_points(end_point, closest_line_end)\n",
      "File \u001b[1;32m~\\AppData\\Roaming\\Python\\Python312\\site-packages\\shapely\\ops.py:312\u001b[0m, in \u001b[0;36mnearest_points\u001b[1;34m(g1, g2)\u001b[0m\n\u001b[0;32m    310\u001b[0m         \u001b[38;5;28;01mraise\u001b[39;00m \u001b[38;5;167;01mValueError\u001b[39;00m(\u001b[38;5;124m\"\u001b[39m\u001b[38;5;124mThe first input geometry is empty\u001b[39m\u001b[38;5;124m\"\u001b[39m)\n\u001b[0;32m    311\u001b[0m     \u001b[38;5;28;01melse\u001b[39;00m:\n\u001b[1;32m--> 312\u001b[0m         \u001b[38;5;28;01mraise\u001b[39;00m \u001b[38;5;167;01mValueError\u001b[39;00m(\u001b[38;5;124m\"\u001b[39m\u001b[38;5;124mThe second input geometry is empty\u001b[39m\u001b[38;5;124m\"\u001b[39m)\n\u001b[0;32m    314\u001b[0m p1 \u001b[38;5;241m=\u001b[39m shapely\u001b[38;5;241m.\u001b[39mget_point(seq, \u001b[38;5;241m0\u001b[39m)\n\u001b[0;32m    315\u001b[0m p2 \u001b[38;5;241m=\u001b[39m shapely\u001b[38;5;241m.\u001b[39mget_point(seq, \u001b[38;5;241m1\u001b[39m)\n",
      "\u001b[1;31mValueError\u001b[0m: The second input geometry is empty"
     ]
    }
   ],
   "source": [
    "import h3\n",
    "import geopandas as gpd\n",
    "from shapely.geometry import Point, LineString\n",
    "from shapely.ops import nearest_points\n",
    "\n",
    "# Assuming 'bikelane_all' is your GeoDataFrame of bike lanes\n",
    "# and 'coordinates2' are your start and end points in Copenhagen\n",
    "coordinates2 = [(669963.1858043118, 6156595.619894134), (666199.299537813, 6155152.20113962)] # somewhere\n",
    "\n",
    "# Convert points to Shapely Points\n",
    "start_point = Point(coordinates2[0])\n",
    "end_point = Point(coordinates2[1])\n",
    "\n",
    "# Choose an appropriate H3 resolution\n",
    "h3_resolution = 8  # Example resolution, adjust based on your needs\n",
    "\n",
    "# Function to assign H3 index to each linestring\n",
    "def assign_h3_index_to_linestring(gdf, resolution):\n",
    "    def get_h3_index_of_linestring(line):\n",
    "        # Use the centroid of the line for indexing\n",
    "        return h3.geo_to_h3(line.centroid.y, line.centroid.x, resolution)\n",
    "    \n",
    "    gdf['h3_index'] = gdf.geometry.apply(get_h3_index_of_linestring)\n",
    "    return gdf\n",
    "\n",
    "# Assign H3 index to each linestring in the GeoDataFrame\n",
    "print(\"assign_h3_index_to_linestring\")\n",
    "bikelane_all = assign_h3_index_to_linestring(bikelane_all, h3_resolution)\n",
    "print(\"assign_h3_index_to_linestring end\")\n",
    "\n",
    "# Function to find the closest LineString to a point, considering H3 index\n",
    "def find_closest_linestring(point, gdf):\n",
    "    point_h3_index = h3.geo_to_h3(point.y, point.x, h3_resolution)\n",
    "    # Filter linestrings by H3 index\n",
    "    filtered_gdf = gdf[gdf['h3_index'] == point_h3_index]\n",
    "    \n",
    "    min_dist = float('inf')\n",
    "    closest_line = None\n",
    "    for line in filtered_gdf.geometry:\n",
    "        dist = point.distance(line)\n",
    "        if dist < min_dist:\n",
    "            min_dist = dist\n",
    "            closest_line = line\n",
    "    return closest_line\n",
    "\n",
    "# Find closest LineStrings to start and end points\n",
    "print(\"find_closest_linestring\")\n",
    "closest_line_start = find_closest_linestring(start_point, bikelane_all)\n",
    "closest_line_end = find_closest_linestring(end_point, bikelane_all)\n",
    "print(\"find_closest_linestring end\")\n",
    "\n",
    "# Find closest nodes to start and end points\n",
    "start_node, _ = nearest_points(start_point, closest_line_start)\n",
    "end_node, _ = nearest_points(end_point, closest_line_end)"
   ]
  },
  {
   "cell_type": "code",
   "execution_count": 95,
   "metadata": {},
   "outputs": [
    {
     "name": "stdout",
     "output_type": "stream",
     "text": [
      "[ 441698.70518066 6072912.09409883  728400.29103142 6402147.68476988]\n",
      "704094.801 6138413.968\n",
      "point_h3_index\n",
      "88e14655c3fffff\n",
      "filtered_gdf\n",
      "Empty GeoDataFrame\n",
      "Columns: [geometry, h3_index]\n",
      "Index: []\n"
     ]
    }
   ],
   "source": [
    "def swap_coordinates(coord):\n",
    "    return coord.x, coord.y # Swap longitude and latitude\n",
    "\n",
    "def find_closest_linestring(point, gdf):\n",
    "    point = swap_coordinates(point)\n",
    "    print(point[0], point[1])\n",
    "    point_h3_index = h3.geo_to_h3(point[0], point[1], h3_resolution)\n",
    "    print(\"point_h3_index\")\n",
    "    print(point_h3_index)\n",
    "    # Filter linestrings by H3 index\n",
    "    filtered_gdf = gdf[gdf['h3_index'] == point_h3_index]\n",
    "    print(\"filtered_gdf\")\n",
    "    print(filtered_gdf)\n",
    "    \n",
    "    min_dist = float('inf')\n",
    "    closest_line = None\n",
    "    for line in filtered_gdf.geometry:\n",
    "        dist = point.distance(line)\n",
    "        if dist < min_dist:\n",
    "            min_dist = dist\n",
    "            closest_line = line\n",
    "    return closest_line\n",
    "\n",
    "coordinates2 = [(704132.978 , 6138611.037), (704094.801 , 6138413.968)] # somewhere\n",
    "print(bikelane_all.total_bounds)\n",
    "# Convert points to Shapely Points\n",
    "start_point = Point(coordinates2[0])\n",
    "end_point = Point(coordinates2[1])\n",
    "\n",
    "closest_line_start = find_closest_linestring(end_point, bikelane_all)"
   ]
  },
  {
   "cell_type": "code",
   "execution_count": 97,
   "metadata": {},
   "outputs": [
    {
     "data": {
      "text/html": [
       "<div>\n",
       "<style scoped>\n",
       "    .dataframe tbody tr th:only-of-type {\n",
       "        vertical-align: middle;\n",
       "    }\n",
       "\n",
       "    .dataframe tbody tr th {\n",
       "        vertical-align: top;\n",
       "    }\n",
       "\n",
       "    .dataframe thead th {\n",
       "        text-align: right;\n",
       "    }\n",
       "</style>\n",
       "<table border=\"1\" class=\"dataframe\">\n",
       "  <thead>\n",
       "    <tr style=\"text-align: right;\">\n",
       "      <th></th>\n",
       "      <th></th>\n",
       "      <th></th>\n",
       "      <th>geometry</th>\n",
       "      <th>h3_index</th>\n",
       "    </tr>\n",
       "    <tr>\n",
       "      <th>u</th>\n",
       "      <th>v</th>\n",
       "      <th>key</th>\n",
       "      <th></th>\n",
       "      <th></th>\n",
       "    </tr>\n",
       "  </thead>\n",
       "  <tbody>\n",
       "    <tr>\n",
       "      <th rowspan=\"3\" valign=\"top\">676544</th>\n",
       "      <th>443246370</th>\n",
       "      <th>0</th>\n",
       "      <td>LINESTRING (704132.978 6138611.037, 704094.801...</td>\n",
       "      <td>884b5a151dfffff</td>\n",
       "    </tr>\n",
       "    <tr>\n",
       "      <th>676545</th>\n",
       "      <th>0</th>\n",
       "      <td>LINESTRING (704132.978 6138611.037, 704172.669...</td>\n",
       "      <td>88ed25494dfffff</td>\n",
       "    </tr>\n",
       "    <tr>\n",
       "      <th>443245726</th>\n",
       "      <th>0</th>\n",
       "      <td>LINESTRING (704132.978 6138611.037, 704146.202...</td>\n",
       "      <td>88c0305031fffff</td>\n",
       "    </tr>\n",
       "    <tr>\n",
       "      <th rowspan=\"2\" valign=\"top\">726713</th>\n",
       "      <th>443257088</th>\n",
       "      <th>0</th>\n",
       "      <td>LINESTRING (704670.169 6138065.010, 704522.145...</td>\n",
       "      <td>880b16b963fffff</td>\n",
       "    </tr>\n",
       "    <tr>\n",
       "      <th>1478811288</th>\n",
       "      <th>0</th>\n",
       "      <td>LINESTRING (704670.169 6138065.010, 704680.236...</td>\n",
       "      <td>884e83cb2dfffff</td>\n",
       "    </tr>\n",
       "    <tr>\n",
       "      <th>...</th>\n",
       "      <th>...</th>\n",
       "      <th>...</th>\n",
       "      <td>...</td>\n",
       "      <td>...</td>\n",
       "    </tr>\n",
       "    <tr>\n",
       "      <th rowspan=\"2\" valign=\"top\">11755267988</th>\n",
       "      <th>11755267989</th>\n",
       "      <th>0</th>\n",
       "      <td>LINESTRING (572878.566 6156776.331, 572822.397...</td>\n",
       "      <td>8825322409fffff</td>\n",
       "    </tr>\n",
       "    <tr>\n",
       "      <th>1722039621</th>\n",
       "      <th>0</th>\n",
       "      <td>LINESTRING (572878.566 6156776.331, 572879.678...</td>\n",
       "      <td>88736679adfffff</td>\n",
       "    </tr>\n",
       "    <tr>\n",
       "      <th>11755267989</th>\n",
       "      <th>11755267988</th>\n",
       "      <th>0</th>\n",
       "      <td>LINESTRING (572822.397 6156764.722, 572878.566...</td>\n",
       "      <td>8825322409fffff</td>\n",
       "    </tr>\n",
       "    <tr>\n",
       "      <th>11755267999</th>\n",
       "      <th>1316680106</th>\n",
       "      <th>0</th>\n",
       "      <td>LINESTRING (570752.832 6159487.934, 570774.534...</td>\n",
       "      <td>889f507911fffff</td>\n",
       "    </tr>\n",
       "    <tr>\n",
       "      <th>11755268000</th>\n",
       "      <th>1316680106</th>\n",
       "      <th>0</th>\n",
       "      <td>LINESTRING (570772.965 6159703.835, 570745.941...</td>\n",
       "      <td>88004ec75bfffff</td>\n",
       "    </tr>\n",
       "  </tbody>\n",
       "</table>\n",
       "<p>3257915 rows × 2 columns</p>\n",
       "</div>"
      ],
      "text/plain": [
       "                                                                      geometry  \\\n",
       "u           v           key                                                      \n",
       "676544      443246370   0    LINESTRING (704132.978 6138611.037, 704094.801...   \n",
       "            676545      0    LINESTRING (704132.978 6138611.037, 704172.669...   \n",
       "            443245726   0    LINESTRING (704132.978 6138611.037, 704146.202...   \n",
       "726713      443257088   0    LINESTRING (704670.169 6138065.010, 704522.145...   \n",
       "            1478811288  0    LINESTRING (704670.169 6138065.010, 704680.236...   \n",
       "...                                                                        ...   \n",
       "11755267988 11755267989 0    LINESTRING (572878.566 6156776.331, 572822.397...   \n",
       "            1722039621  0    LINESTRING (572878.566 6156776.331, 572879.678...   \n",
       "11755267989 11755267988 0    LINESTRING (572822.397 6156764.722, 572878.566...   \n",
       "11755267999 1316680106  0    LINESTRING (570752.832 6159487.934, 570774.534...   \n",
       "11755268000 1316680106  0    LINESTRING (570772.965 6159703.835, 570745.941...   \n",
       "\n",
       "                                    h3_index  \n",
       "u           v           key                   \n",
       "676544      443246370   0    884b5a151dfffff  \n",
       "            676545      0    88ed25494dfffff  \n",
       "            443245726   0    88c0305031fffff  \n",
       "726713      443257088   0    880b16b963fffff  \n",
       "            1478811288  0    884e83cb2dfffff  \n",
       "...                                      ...  \n",
       "11755267988 11755267989 0    8825322409fffff  \n",
       "            1722039621  0    88736679adfffff  \n",
       "11755267989 11755267988 0    8825322409fffff  \n",
       "11755267999 1316680106  0    889f507911fffff  \n",
       "11755268000 1316680106  0    88004ec75bfffff  \n",
       "\n",
       "[3257915 rows x 2 columns]"
      ]
     },
     "execution_count": 97,
     "metadata": {},
     "output_type": "execute_result"
    }
   ],
   "source": [
    "bikelane_all"
   ]
  },
  {
   "cell_type": "code",
   "execution_count": 104,
   "metadata": {},
   "outputs": [
    {
     "name": "stdout",
     "output_type": "stream",
     "text": [
      "6138611.037 704132.978\n"
     ]
    },
    {
     "data": {
      "text/plain": [
       "'88ec2e7265fffff'"
      ]
     },
     "execution_count": 104,
     "metadata": {},
     "output_type": "execute_result"
    }
   ],
   "source": [
    "def swap_coordinates(coord):\n",
    "    return coord.y, coord.x # Swap longitude and latitude\n",
    "\n",
    "coordinates2 = [(704132.978 , 6138611.037), (704094.801 , 6138413.968)] # somewhere\n",
    "end_point = Point(coordinates2[0])\n",
    "point = swap_coordinates(end_point)\n",
    "print(point[0], point[1])\n",
    "h3.geo_to_h3(point[0], point[1], h3_resolution)"
   ]
  },
  {
   "cell_type": "code",
   "execution_count": 106,
   "metadata": {},
   "outputs": [
    {
     "data": {
      "text/html": [
       "<div style=\"width:100%;\"><div style=\"position:relative;width:100%;height:0;padding-bottom:60%;\"><span style=\"color:#565656\">Make this Notebook Trusted to load map: File -> Trust Notebook</span><iframe srcdoc=\"&lt;!DOCTYPE html&gt;\n",
       "&lt;html&gt;\n",
       "&lt;head&gt;\n",
       "    \n",
       "    &lt;meta http-equiv=&quot;content-type&quot; content=&quot;text/html; charset=UTF-8&quot; /&gt;\n",
       "    \n",
       "        &lt;script&gt;\n",
       "            L_NO_TOUCH = false;\n",
       "            L_DISABLE_3D = false;\n",
       "        &lt;/script&gt;\n",
       "    \n",
       "    &lt;style&gt;html, body {width: 100%;height: 100%;margin: 0;padding: 0;}&lt;/style&gt;\n",
       "    &lt;style&gt;#map {position:absolute;top:0;bottom:0;right:0;left:0;}&lt;/style&gt;\n",
       "    &lt;script src=&quot;https://cdn.jsdelivr.net/npm/leaflet@1.9.3/dist/leaflet.js&quot;&gt;&lt;/script&gt;\n",
       "    &lt;script src=&quot;https://code.jquery.com/jquery-3.7.1.min.js&quot;&gt;&lt;/script&gt;\n",
       "    &lt;script src=&quot;https://cdn.jsdelivr.net/npm/bootstrap@5.2.2/dist/js/bootstrap.bundle.min.js&quot;&gt;&lt;/script&gt;\n",
       "    &lt;script src=&quot;https://cdnjs.cloudflare.com/ajax/libs/Leaflet.awesome-markers/2.0.2/leaflet.awesome-markers.js&quot;&gt;&lt;/script&gt;\n",
       "    &lt;link rel=&quot;stylesheet&quot; href=&quot;https://cdn.jsdelivr.net/npm/leaflet@1.9.3/dist/leaflet.css&quot;/&gt;\n",
       "    &lt;link rel=&quot;stylesheet&quot; href=&quot;https://cdn.jsdelivr.net/npm/bootstrap@5.2.2/dist/css/bootstrap.min.css&quot;/&gt;\n",
       "    &lt;link rel=&quot;stylesheet&quot; href=&quot;https://netdna.bootstrapcdn.com/bootstrap/3.0.0/css/bootstrap.min.css&quot;/&gt;\n",
       "    &lt;link rel=&quot;stylesheet&quot; href=&quot;https://cdn.jsdelivr.net/npm/@fortawesome/fontawesome-free@6.2.0/css/all.min.css&quot;/&gt;\n",
       "    &lt;link rel=&quot;stylesheet&quot; href=&quot;https://cdnjs.cloudflare.com/ajax/libs/Leaflet.awesome-markers/2.0.2/leaflet.awesome-markers.css&quot;/&gt;\n",
       "    &lt;link rel=&quot;stylesheet&quot; href=&quot;https://cdn.jsdelivr.net/gh/python-visualization/folium/folium/templates/leaflet.awesome.rotate.min.css&quot;/&gt;\n",
       "    \n",
       "            &lt;meta name=&quot;viewport&quot; content=&quot;width=device-width,\n",
       "                initial-scale=1.0, maximum-scale=1.0, user-scalable=no&quot; /&gt;\n",
       "            &lt;style&gt;\n",
       "                #map_d7319702a5d220ce399683614855a618 {\n",
       "                    position: relative;\n",
       "                    width: 100.0%;\n",
       "                    height: 100.0%;\n",
       "                    left: 0.0%;\n",
       "                    top: 0.0%;\n",
       "                }\n",
       "                .leaflet-container { font-size: 1rem; }\n",
       "            &lt;/style&gt;\n",
       "        \n",
       "&lt;/head&gt;\n",
       "&lt;body&gt;\n",
       "    \n",
       "    \n",
       "            &lt;div class=&quot;folium-map&quot; id=&quot;map_d7319702a5d220ce399683614855a618&quot; &gt;&lt;/div&gt;\n",
       "        \n",
       "&lt;/body&gt;\n",
       "&lt;script&gt;\n",
       "    \n",
       "    \n",
       "            var map_d7319702a5d220ce399683614855a618 = L.map(\n",
       "                &quot;map_d7319702a5d220ce399683614855a618&quot;,\n",
       "                {\n",
       "                    center: [152.9933594845217, -71.03627751094012],\n",
       "                    crs: L.CRS.EPSG3857,\n",
       "                    zoom: 12,\n",
       "                    zoomControl: true,\n",
       "                    preferCanvas: false,\n",
       "                }\n",
       "            );\n",
       "\n",
       "            \n",
       "\n",
       "        \n",
       "    \n",
       "            var tile_layer_7f260970be8a0887010ee60648b20270 = L.tileLayer(\n",
       "                &quot;https://tile.openstreetmap.org/{z}/{x}/{y}.png&quot;,\n",
       "                {&quot;attribution&quot;: &quot;\\u0026copy; \\u003ca href=\\&quot;https://www.openstreetmap.org/copyright\\&quot;\\u003eOpenStreetMap\\u003c/a\\u003e contributors&quot;, &quot;detectRetina&quot;: false, &quot;maxNativeZoom&quot;: 19, &quot;maxZoom&quot;: 19, &quot;minZoom&quot;: 0, &quot;noWrap&quot;: false, &quot;opacity&quot;: 1, &quot;subdomains&quot;: &quot;abc&quot;, &quot;tms&quot;: false}\n",
       "            );\n",
       "        \n",
       "    \n",
       "            tile_layer_7f260970be8a0887010ee60648b20270.addTo(map_d7319702a5d220ce399683614855a618);\n",
       "        \n",
       "    \n",
       "            var polygon_86aa8f8bed5ace99c730e3581cfdff7e = L.polygon(\n",
       "                [[152.9933594845217, -71.03627751094012], [152.98124213638843, -71.03394005233523], [152.96934725347717, -71.03646903915595], [152.96956764906312, -71.04133638734899], [152.98168880304894, -71.04367444925052], [152.9935857551714, -71.0411445594786], [152.9933594845217, -71.03627751094012]],\n",
       "                {&quot;bubblingMouseEvents&quot;: true, &quot;color&quot;: &quot;blue&quot;, &quot;dashArray&quot;: null, &quot;dashOffset&quot;: null, &quot;fill&quot;: true, &quot;fillColor&quot;: &quot;blue&quot;, &quot;fillOpacity&quot;: 0.2, &quot;fillRule&quot;: &quot;evenodd&quot;, &quot;lineCap&quot;: &quot;round&quot;, &quot;lineJoin&quot;: &quot;round&quot;, &quot;noClip&quot;: false, &quot;opacity&quot;: 1.0, &quot;smoothFactor&quot;: 1.0, &quot;stroke&quot;: true, &quot;weight&quot;: 3}\n",
       "            ).addTo(map_d7319702a5d220ce399683614855a618);\n",
       "        \n",
       "&lt;/script&gt;\n",
       "&lt;/html&gt;\" style=\"position:absolute;width:100%;height:100%;left:0;top:0;border:none !important;\" allowfullscreen webkitallowfullscreen mozallowfullscreen></iframe></div></div>"
      ],
      "text/plain": [
       "<folium.folium.Map at 0x1ca3a5772c0>"
      ]
     },
     "execution_count": 106,
     "metadata": {},
     "output_type": "execute_result"
    }
   ],
   "source": [
    "import h3\n",
    "import folium\n",
    "\n",
    "# Example H3 index\n",
    "h3_index = '88ec2e7265fffff'  # Replace with your H3 index\n",
    "\n",
    "# Convert the H3 index to a GeoJSON polygon\n",
    "h3_boundary = h3.h3_to_geo_boundary(h3_index, geo_json=True)\n",
    "\n",
    "# Create a Folium map at a location centered on the H3 index\n",
    "map = folium.Map(location=[h3_boundary[0][0], h3_boundary[0][1]], zoom_start=12)\n",
    "\n",
    "# Create a polygon feature and add it to the map\n",
    "folium.Polygon(locations=h3_boundary, color='blue', fill=True).add_to(map)\n",
    "\n",
    "# Display the map\n",
    "map"
   ]
  },
  {
   "cell_type": "code",
   "execution_count": 105,
   "metadata": {},
   "outputs": [
    {
     "name": "stdout",
     "output_type": "stream",
     "text": [
      "704132.978 6138611.037\n"
     ]
    },
    {
     "data": {
      "text/plain": [
       "'88b0a245e1fffff'"
      ]
     },
     "execution_count": 105,
     "metadata": {},
     "output_type": "execute_result"
    }
   ],
   "source": [
    "def swap_coordinates(coord):\n",
    "    return coord.x, coord.y # Swap longitude and latitude\n",
    "\n",
    "coordinates2 = [(704132.978 , 6138611.037), (704094.801 , 6138413.968)] # somewhere\n",
    "end_point = Point(coordinates2[0])\n",
    "point = swap_coordinates(end_point)\n",
    "print(point[0], point[1])\n",
    "h3.geo_to_h3(point[0], point[1], h3_resolution)"
   ]
  },
  {
   "cell_type": "code",
   "execution_count": 107,
   "metadata": {},
   "outputs": [
    {
     "data": {
      "text/html": [
       "<div style=\"width:100%;\"><div style=\"position:relative;width:100%;height:0;padding-bottom:60%;\"><span style=\"color:#565656\">Make this Notebook Trusted to load map: File -> Trust Notebook</span><iframe srcdoc=\"&lt;!DOCTYPE html&gt;\n",
       "&lt;html&gt;\n",
       "&lt;head&gt;\n",
       "    \n",
       "    &lt;meta http-equiv=&quot;content-type&quot; content=&quot;text/html; charset=UTF-8&quot; /&gt;\n",
       "    \n",
       "        &lt;script&gt;\n",
       "            L_NO_TOUCH = false;\n",
       "            L_DISABLE_3D = false;\n",
       "        &lt;/script&gt;\n",
       "    \n",
       "    &lt;style&gt;html, body {width: 100%;height: 100%;margin: 0;padding: 0;}&lt;/style&gt;\n",
       "    &lt;style&gt;#map {position:absolute;top:0;bottom:0;right:0;left:0;}&lt;/style&gt;\n",
       "    &lt;script src=&quot;https://cdn.jsdelivr.net/npm/leaflet@1.9.3/dist/leaflet.js&quot;&gt;&lt;/script&gt;\n",
       "    &lt;script src=&quot;https://code.jquery.com/jquery-3.7.1.min.js&quot;&gt;&lt;/script&gt;\n",
       "    &lt;script src=&quot;https://cdn.jsdelivr.net/npm/bootstrap@5.2.2/dist/js/bootstrap.bundle.min.js&quot;&gt;&lt;/script&gt;\n",
       "    &lt;script src=&quot;https://cdnjs.cloudflare.com/ajax/libs/Leaflet.awesome-markers/2.0.2/leaflet.awesome-markers.js&quot;&gt;&lt;/script&gt;\n",
       "    &lt;link rel=&quot;stylesheet&quot; href=&quot;https://cdn.jsdelivr.net/npm/leaflet@1.9.3/dist/leaflet.css&quot;/&gt;\n",
       "    &lt;link rel=&quot;stylesheet&quot; href=&quot;https://cdn.jsdelivr.net/npm/bootstrap@5.2.2/dist/css/bootstrap.min.css&quot;/&gt;\n",
       "    &lt;link rel=&quot;stylesheet&quot; href=&quot;https://netdna.bootstrapcdn.com/bootstrap/3.0.0/css/bootstrap.min.css&quot;/&gt;\n",
       "    &lt;link rel=&quot;stylesheet&quot; href=&quot;https://cdn.jsdelivr.net/npm/@fortawesome/fontawesome-free@6.2.0/css/all.min.css&quot;/&gt;\n",
       "    &lt;link rel=&quot;stylesheet&quot; href=&quot;https://cdnjs.cloudflare.com/ajax/libs/Leaflet.awesome-markers/2.0.2/leaflet.awesome-markers.css&quot;/&gt;\n",
       "    &lt;link rel=&quot;stylesheet&quot; href=&quot;https://cdn.jsdelivr.net/gh/python-visualization/folium/folium/templates/leaflet.awesome.rotate.min.css&quot;/&gt;\n",
       "    \n",
       "            &lt;meta name=&quot;viewport&quot; content=&quot;width=device-width,\n",
       "                initial-scale=1.0, maximum-scale=1.0, user-scalable=no&quot; /&gt;\n",
       "            &lt;style&gt;\n",
       "                #map_a6ca15bd6cc96a60c84b9a05325f0240 {\n",
       "                    position: relative;\n",
       "                    width: 100.0%;\n",
       "                    height: 100.0%;\n",
       "                    left: 0.0%;\n",
       "                    top: 0.0%;\n",
       "                }\n",
       "                .leaflet-container { font-size: 1rem; }\n",
       "            &lt;/style&gt;\n",
       "        \n",
       "&lt;/head&gt;\n",
       "&lt;body&gt;\n",
       "    \n",
       "    \n",
       "            &lt;div class=&quot;folium-map&quot; id=&quot;map_a6ca15bd6cc96a60c84b9a05325f0240&quot; &gt;&lt;/div&gt;\n",
       "        \n",
       "&lt;/body&gt;\n",
       "&lt;script&gt;\n",
       "    \n",
       "    \n",
       "            var map_a6ca15bd6cc96a60c84b9a05325f0240 = L.map(\n",
       "                &quot;map_a6ca15bd6cc96a60c84b9a05325f0240&quot;,\n",
       "                {\n",
       "                    center: [-108.96136240680002, -27.030075777503175],\n",
       "                    crs: L.CRS.EPSG3857,\n",
       "                    zoom: 12,\n",
       "                    zoomControl: true,\n",
       "                    preferCanvas: false,\n",
       "                }\n",
       "            );\n",
       "\n",
       "            \n",
       "\n",
       "        \n",
       "    \n",
       "            var tile_layer_5cf135e89a00f17a1396893494fcd02c = L.tileLayer(\n",
       "                &quot;https://tile.openstreetmap.org/{z}/{x}/{y}.png&quot;,\n",
       "                {&quot;attribution&quot;: &quot;\\u0026copy; \\u003ca href=\\&quot;https://www.openstreetmap.org/copyright\\&quot;\\u003eOpenStreetMap\\u003c/a\\u003e contributors&quot;, &quot;detectRetina&quot;: false, &quot;maxNativeZoom&quot;: 19, &quot;maxZoom&quot;: 19, &quot;minZoom&quot;: 0, &quot;noWrap&quot;: false, &quot;opacity&quot;: 1, &quot;subdomains&quot;: &quot;abc&quot;, &quot;tms&quot;: false}\n",
       "            );\n",
       "        \n",
       "    \n",
       "            tile_layer_5cf135e89a00f17a1396893494fcd02c.addTo(map_a6ca15bd6cc96a60c84b9a05325f0240);\n",
       "        \n",
       "    \n",
       "            var polygon_3882552efb0ac68b9d913feb29f3f809 = L.polygon(\n",
       "                [[-108.96136240680002, -27.030075777503175], [-108.95617111643395, -27.02833150188178], [-108.95536022654954, -27.023676271457116], [-108.95973997796618, -27.020765441072733], [-108.96493077164286, -27.022509430271263], [-108.96574231056317, -27.027164536247593], [-108.96136240680002, -27.030075777503175]],\n",
       "                {&quot;bubblingMouseEvents&quot;: true, &quot;color&quot;: &quot;blue&quot;, &quot;dashArray&quot;: null, &quot;dashOffset&quot;: null, &quot;fill&quot;: true, &quot;fillColor&quot;: &quot;blue&quot;, &quot;fillOpacity&quot;: 0.2, &quot;fillRule&quot;: &quot;evenodd&quot;, &quot;lineCap&quot;: &quot;round&quot;, &quot;lineJoin&quot;: &quot;round&quot;, &quot;noClip&quot;: false, &quot;opacity&quot;: 1.0, &quot;smoothFactor&quot;: 1.0, &quot;stroke&quot;: true, &quot;weight&quot;: 3}\n",
       "            ).addTo(map_a6ca15bd6cc96a60c84b9a05325f0240);\n",
       "        \n",
       "&lt;/script&gt;\n",
       "&lt;/html&gt;\" style=\"position:absolute;width:100%;height:100%;left:0;top:0;border:none !important;\" allowfullscreen webkitallowfullscreen mozallowfullscreen></iframe></div></div>"
      ],
      "text/plain": [
       "<folium.folium.Map at 0x1ca95dfcbf0>"
      ]
     },
     "execution_count": 107,
     "metadata": {},
     "output_type": "execute_result"
    }
   ],
   "source": [
    "import h3\n",
    "import folium\n",
    "\n",
    "# Example H3 index\n",
    "h3_index = '88b0a245e1fffff'  # Replace with your H3 index\n",
    "\n",
    "# Convert the H3 index to a GeoJSON polygon\n",
    "h3_boundary = h3.h3_to_geo_boundary(h3_index, geo_json=True)\n",
    "\n",
    "# Create a Folium map at a location centered on the H3 index\n",
    "map = folium.Map(location=[h3_boundary[0][0], h3_boundary[0][1]], zoom_start=12)\n",
    "\n",
    "# Create a polygon feature and add it to the map\n",
    "folium.Polygon(locations=h3_boundary, color='blue', fill=True).add_to(map)\n",
    "\n",
    "# Display the map\n",
    "map"
   ]
  },
  {
   "cell_type": "code",
   "execution_count": 102,
   "metadata": {},
   "outputs": [
    {
     "data": {
      "text/plain": [
       "<GeometryArray>\n",
       "[<LINESTRING (704132.978 6138611.037, 704094.801 6138413.968)>]\n",
       "Length: 1, dtype: geometry"
      ]
     },
     "execution_count": 102,
     "metadata": {},
     "output_type": "execute_result"
    }
   ],
   "source": [
    "bikelane_all.head(1).geometry.values"
   ]
  },
  {
   "cell_type": "code",
   "execution_count": 108,
   "metadata": {},
   "outputs": [
    {
     "data": {
      "text/plain": [
       "array(['884b5a151dfffff'], dtype=object)"
      ]
     },
     "execution_count": 108,
     "metadata": {},
     "output_type": "execute_result"
    }
   ],
   "source": [
    "bikelane_all.head(1).h3_index.values"
   ]
  },
  {
   "cell_type": "code",
   "execution_count": 111,
   "metadata": {},
   "outputs": [
    {
     "ename": "AssertionError",
     "evalue": "The field 0 is not available in the data. Choose from: (0,).",
     "output_type": "error",
     "traceback": [
      "\u001b[1;31m---------------------------------------------------------------------------\u001b[0m",
      "\u001b[1;31mAssertionError\u001b[0m                            Traceback (most recent call last)",
      "File \u001b[1;32m~\\AppData\\Roaming\\Python\\Python312\\site-packages\\IPython\\core\\formatters.py:344\u001b[0m, in \u001b[0;36mBaseFormatter.__call__\u001b[1;34m(self, obj)\u001b[0m\n\u001b[0;32m    342\u001b[0m     method \u001b[38;5;241m=\u001b[39m get_real_method(obj, \u001b[38;5;28mself\u001b[39m\u001b[38;5;241m.\u001b[39mprint_method)\n\u001b[0;32m    343\u001b[0m     \u001b[38;5;28;01mif\u001b[39;00m method \u001b[38;5;129;01mis\u001b[39;00m \u001b[38;5;129;01mnot\u001b[39;00m \u001b[38;5;28;01mNone\u001b[39;00m:\n\u001b[1;32m--> 344\u001b[0m         \u001b[38;5;28;01mreturn\u001b[39;00m \u001b[43mmethod\u001b[49m\u001b[43m(\u001b[49m\u001b[43m)\u001b[49m\n\u001b[0;32m    345\u001b[0m     \u001b[38;5;28;01mreturn\u001b[39;00m \u001b[38;5;28;01mNone\u001b[39;00m\n\u001b[0;32m    346\u001b[0m \u001b[38;5;28;01melse\u001b[39;00m:\n",
      "File \u001b[1;32m~\\AppData\\Roaming\\Python\\Python312\\site-packages\\folium\\folium.py:321\u001b[0m, in \u001b[0;36mMap._repr_html_\u001b[1;34m(self, **kwargs)\u001b[0m\n\u001b[0;32m    319\u001b[0m     \u001b[38;5;28mself\u001b[39m\u001b[38;5;241m.\u001b[39m_parent \u001b[38;5;241m=\u001b[39m \u001b[38;5;28;01mNone\u001b[39;00m\n\u001b[0;32m    320\u001b[0m \u001b[38;5;28;01melse\u001b[39;00m:\n\u001b[1;32m--> 321\u001b[0m     out \u001b[38;5;241m=\u001b[39m \u001b[38;5;28;43mself\u001b[39;49m\u001b[38;5;241;43m.\u001b[39;49m\u001b[43m_parent\u001b[49m\u001b[38;5;241;43m.\u001b[39;49m\u001b[43m_repr_html_\u001b[49m\u001b[43m(\u001b[49m\u001b[38;5;241;43m*\u001b[39;49m\u001b[38;5;241;43m*\u001b[39;49m\u001b[43mkwargs\u001b[49m\u001b[43m)\u001b[49m\n\u001b[0;32m    322\u001b[0m \u001b[38;5;28;01mreturn\u001b[39;00m out\n",
      "File \u001b[1;32m~\\AppData\\Roaming\\Python\\Python312\\site-packages\\branca\\element.py:369\u001b[0m, in \u001b[0;36mFigure._repr_html_\u001b[1;34m(self, **kwargs)\u001b[0m\n\u001b[0;32m    367\u001b[0m \u001b[38;5;28;01mdef\u001b[39;00m \u001b[38;5;21m_repr_html_\u001b[39m(\u001b[38;5;28mself\u001b[39m, \u001b[38;5;241m*\u001b[39m\u001b[38;5;241m*\u001b[39mkwargs):\n\u001b[0;32m    368\u001b[0m \u001b[38;5;250m    \u001b[39m\u001b[38;5;124;03m\"\"\"Displays the Figure in a Jupyter notebook.\"\"\"\u001b[39;00m\n\u001b[1;32m--> 369\u001b[0m     html \u001b[38;5;241m=\u001b[39m escape(\u001b[38;5;28;43mself\u001b[39;49m\u001b[38;5;241;43m.\u001b[39;49m\u001b[43mrender\u001b[49m\u001b[43m(\u001b[49m\u001b[38;5;241;43m*\u001b[39;49m\u001b[38;5;241;43m*\u001b[39;49m\u001b[43mkwargs\u001b[49m\u001b[43m)\u001b[49m)\n\u001b[0;32m    370\u001b[0m     \u001b[38;5;28;01mif\u001b[39;00m \u001b[38;5;28mself\u001b[39m\u001b[38;5;241m.\u001b[39mheight \u001b[38;5;129;01mis\u001b[39;00m \u001b[38;5;28;01mNone\u001b[39;00m:\n\u001b[0;32m    371\u001b[0m         iframe \u001b[38;5;241m=\u001b[39m (\n\u001b[0;32m    372\u001b[0m             \u001b[38;5;124m'\u001b[39m\u001b[38;5;124m<div style=\u001b[39m\u001b[38;5;124m\"\u001b[39m\u001b[38;5;124mwidth:\u001b[39m\u001b[38;5;132;01m{width}\u001b[39;00m\u001b[38;5;124m;\u001b[39m\u001b[38;5;124m\"\u001b[39m\u001b[38;5;124m>\u001b[39m\u001b[38;5;124m'\u001b[39m\n\u001b[0;32m    373\u001b[0m             \u001b[38;5;124m'\u001b[39m\u001b[38;5;124m<div style=\u001b[39m\u001b[38;5;124m\"\u001b[39m\u001b[38;5;124mposition:relative;width:100\u001b[39m\u001b[38;5;124m%\u001b[39m\u001b[38;5;124m;height:0;padding-bottom:\u001b[39m\u001b[38;5;132;01m{ratio}\u001b[39;00m\u001b[38;5;124m;\u001b[39m\u001b[38;5;124m\"\u001b[39m\u001b[38;5;124m>\u001b[39m\u001b[38;5;124m'\u001b[39m  \u001b[38;5;66;03m# noqa\u001b[39;00m\n\u001b[1;32m   (...)\u001b[0m\n\u001b[0;32m    379\u001b[0m             \u001b[38;5;124m\"\u001b[39m\u001b[38;5;124m</div></div>\u001b[39m\u001b[38;5;124m\"\u001b[39m\n\u001b[0;32m    380\u001b[0m         )\u001b[38;5;241m.\u001b[39mformat(html\u001b[38;5;241m=\u001b[39mhtml, width\u001b[38;5;241m=\u001b[39m\u001b[38;5;28mself\u001b[39m\u001b[38;5;241m.\u001b[39mwidth, ratio\u001b[38;5;241m=\u001b[39m\u001b[38;5;28mself\u001b[39m\u001b[38;5;241m.\u001b[39mratio)\n",
      "File \u001b[1;32m~\\AppData\\Roaming\\Python\\Python312\\site-packages\\branca\\element.py:364\u001b[0m, in \u001b[0;36mFigure.render\u001b[1;34m(self, **kwargs)\u001b[0m\n\u001b[0;32m    362\u001b[0m \u001b[38;5;250m\u001b[39m\u001b[38;5;124;03m\"\"\"Renders the HTML representation of the element.\"\"\"\u001b[39;00m\n\u001b[0;32m    363\u001b[0m \u001b[38;5;28;01mfor\u001b[39;00m name, child \u001b[38;5;129;01min\u001b[39;00m \u001b[38;5;28mself\u001b[39m\u001b[38;5;241m.\u001b[39m_children\u001b[38;5;241m.\u001b[39mitems():\n\u001b[1;32m--> 364\u001b[0m     \u001b[43mchild\u001b[49m\u001b[38;5;241;43m.\u001b[39;49m\u001b[43mrender\u001b[49m\u001b[43m(\u001b[49m\u001b[38;5;241;43m*\u001b[39;49m\u001b[38;5;241;43m*\u001b[39;49m\u001b[43mkwargs\u001b[49m\u001b[43m)\u001b[49m\n\u001b[0;32m    365\u001b[0m \u001b[38;5;28;01mreturn\u001b[39;00m \u001b[38;5;28mself\u001b[39m\u001b[38;5;241m.\u001b[39m_template\u001b[38;5;241m.\u001b[39mrender(this\u001b[38;5;241m=\u001b[39m\u001b[38;5;28mself\u001b[39m, kwargs\u001b[38;5;241m=\u001b[39mkwargs)\n",
      "File \u001b[1;32m~\\AppData\\Roaming\\Python\\Python312\\site-packages\\folium\\folium.py:403\u001b[0m, in \u001b[0;36mMap.render\u001b[1;34m(self, **kwargs)\u001b[0m\n\u001b[0;32m    376\u001b[0m figure\u001b[38;5;241m.\u001b[39mheader\u001b[38;5;241m.\u001b[39madd_child(\n\u001b[0;32m    377\u001b[0m     Element(\n\u001b[0;32m    378\u001b[0m         \u001b[38;5;124m\"\u001b[39m\u001b[38;5;124m<style>html, body \u001b[39m\u001b[38;5;124m{\u001b[39m\u001b[38;5;124m\"\u001b[39m\n\u001b[1;32m   (...)\u001b[0m\n\u001b[0;32m    386\u001b[0m     name\u001b[38;5;241m=\u001b[39m\u001b[38;5;124m\"\u001b[39m\u001b[38;5;124mcss_style\u001b[39m\u001b[38;5;124m\"\u001b[39m,\n\u001b[0;32m    387\u001b[0m )\n\u001b[0;32m    389\u001b[0m figure\u001b[38;5;241m.\u001b[39mheader\u001b[38;5;241m.\u001b[39madd_child(\n\u001b[0;32m    390\u001b[0m     Element(\n\u001b[0;32m    391\u001b[0m         \u001b[38;5;124m\"\u001b[39m\u001b[38;5;124m<style>#map \u001b[39m\u001b[38;5;124m{\u001b[39m\u001b[38;5;124m\"\u001b[39m\n\u001b[1;32m   (...)\u001b[0m\n\u001b[0;32m    400\u001b[0m     name\u001b[38;5;241m=\u001b[39m\u001b[38;5;124m\"\u001b[39m\u001b[38;5;124mmap_style\u001b[39m\u001b[38;5;124m\"\u001b[39m,\n\u001b[0;32m    401\u001b[0m )\n\u001b[1;32m--> 403\u001b[0m \u001b[38;5;28;43msuper\u001b[39;49m\u001b[43m(\u001b[49m\u001b[43m)\u001b[49m\u001b[38;5;241;43m.\u001b[39;49m\u001b[43mrender\u001b[49m\u001b[43m(\u001b[49m\u001b[38;5;241;43m*\u001b[39;49m\u001b[38;5;241;43m*\u001b[39;49m\u001b[43mkwargs\u001b[49m\u001b[43m)\u001b[49m\n",
      "File \u001b[1;32m~\\AppData\\Roaming\\Python\\Python312\\site-packages\\folium\\elements.py:25\u001b[0m, in \u001b[0;36mJSCSSMixin.render\u001b[1;34m(self, **kwargs)\u001b[0m\n\u001b[0;32m     22\u001b[0m \u001b[38;5;28;01mfor\u001b[39;00m name, url \u001b[38;5;129;01min\u001b[39;00m \u001b[38;5;28mself\u001b[39m\u001b[38;5;241m.\u001b[39mdefault_css:\n\u001b[0;32m     23\u001b[0m     figure\u001b[38;5;241m.\u001b[39mheader\u001b[38;5;241m.\u001b[39madd_child(CssLink(url), name\u001b[38;5;241m=\u001b[39mname)\n\u001b[1;32m---> 25\u001b[0m \u001b[38;5;28;43msuper\u001b[39;49m\u001b[43m(\u001b[49m\u001b[43m)\u001b[49m\u001b[38;5;241;43m.\u001b[39;49m\u001b[43mrender\u001b[49m\u001b[43m(\u001b[49m\u001b[38;5;241;43m*\u001b[39;49m\u001b[38;5;241;43m*\u001b[39;49m\u001b[43mkwargs\u001b[49m\u001b[43m)\u001b[49m\n",
      "File \u001b[1;32m~\\AppData\\Roaming\\Python\\Python312\\site-packages\\branca\\element.py:681\u001b[0m, in \u001b[0;36mMacroElement.render\u001b[1;34m(self, **kwargs)\u001b[0m\n\u001b[0;32m    678\u001b[0m     figure\u001b[38;5;241m.\u001b[39mscript\u001b[38;5;241m.\u001b[39madd_child(Element(script(\u001b[38;5;28mself\u001b[39m, kwargs)), name\u001b[38;5;241m=\u001b[39m\u001b[38;5;28mself\u001b[39m\u001b[38;5;241m.\u001b[39mget_name())\n\u001b[0;32m    680\u001b[0m \u001b[38;5;28;01mfor\u001b[39;00m name, element \u001b[38;5;129;01min\u001b[39;00m \u001b[38;5;28mself\u001b[39m\u001b[38;5;241m.\u001b[39m_children\u001b[38;5;241m.\u001b[39mitems():\n\u001b[1;32m--> 681\u001b[0m     \u001b[43melement\u001b[49m\u001b[38;5;241;43m.\u001b[39;49m\u001b[43mrender\u001b[49m\u001b[43m(\u001b[49m\u001b[38;5;241;43m*\u001b[39;49m\u001b[38;5;241;43m*\u001b[39;49m\u001b[43mkwargs\u001b[49m\u001b[43m)\u001b[49m\n",
      "File \u001b[1;32m~\\AppData\\Roaming\\Python\\Python312\\site-packages\\folium\\features.py:831\u001b[0m, in \u001b[0;36mGeoJson.render\u001b[1;34m(self, **kwargs)\u001b[0m\n\u001b[0;32m    829\u001b[0m     \u001b[38;5;28;01mif\u001b[39;00m \u001b[38;5;28mself\u001b[39m\u001b[38;5;241m.\u001b[39mhighlight:\n\u001b[0;32m    830\u001b[0m         \u001b[38;5;28mself\u001b[39m\u001b[38;5;241m.\u001b[39mhighlight_map \u001b[38;5;241m=\u001b[39m mapper\u001b[38;5;241m.\u001b[39mget_highlight_map(\u001b[38;5;28mself\u001b[39m\u001b[38;5;241m.\u001b[39mhighlight_function)\n\u001b[1;32m--> 831\u001b[0m \u001b[38;5;28;43msuper\u001b[39;49m\u001b[43m(\u001b[49m\u001b[43m)\u001b[49m\u001b[38;5;241;43m.\u001b[39;49m\u001b[43mrender\u001b[49m\u001b[43m(\u001b[49m\u001b[43m)\u001b[49m\n",
      "File \u001b[1;32m~\\AppData\\Roaming\\Python\\Python312\\site-packages\\folium\\map.py:63\u001b[0m, in \u001b[0;36mLayer.render\u001b[1;34m(self, **kwargs)\u001b[0m\n\u001b[0;32m     55\u001b[0m \u001b[38;5;28;01mif\u001b[39;00m \u001b[38;5;28mself\u001b[39m\u001b[38;5;241m.\u001b[39mshow:\n\u001b[0;32m     56\u001b[0m     \u001b[38;5;28mself\u001b[39m\u001b[38;5;241m.\u001b[39madd_child(\n\u001b[0;32m     57\u001b[0m         ElementAddToElement(\n\u001b[0;32m     58\u001b[0m             element_name\u001b[38;5;241m=\u001b[39m\u001b[38;5;28mself\u001b[39m\u001b[38;5;241m.\u001b[39mget_name(),\n\u001b[1;32m   (...)\u001b[0m\n\u001b[0;32m     61\u001b[0m         name\u001b[38;5;241m=\u001b[39m\u001b[38;5;28mself\u001b[39m\u001b[38;5;241m.\u001b[39mget_name() \u001b[38;5;241m+\u001b[39m \u001b[38;5;124m\"\u001b[39m\u001b[38;5;124m_add\u001b[39m\u001b[38;5;124m\"\u001b[39m,\n\u001b[0;32m     62\u001b[0m     )\n\u001b[1;32m---> 63\u001b[0m \u001b[38;5;28;43msuper\u001b[39;49m\u001b[43m(\u001b[49m\u001b[43m)\u001b[49m\u001b[38;5;241;43m.\u001b[39;49m\u001b[43mrender\u001b[49m\u001b[43m(\u001b[49m\u001b[38;5;241;43m*\u001b[39;49m\u001b[38;5;241;43m*\u001b[39;49m\u001b[43mkwargs\u001b[49m\u001b[43m)\u001b[49m\n",
      "File \u001b[1;32m~\\AppData\\Roaming\\Python\\Python312\\site-packages\\branca\\element.py:681\u001b[0m, in \u001b[0;36mMacroElement.render\u001b[1;34m(self, **kwargs)\u001b[0m\n\u001b[0;32m    678\u001b[0m     figure\u001b[38;5;241m.\u001b[39mscript\u001b[38;5;241m.\u001b[39madd_child(Element(script(\u001b[38;5;28mself\u001b[39m, kwargs)), name\u001b[38;5;241m=\u001b[39m\u001b[38;5;28mself\u001b[39m\u001b[38;5;241m.\u001b[39mget_name())\n\u001b[0;32m    680\u001b[0m \u001b[38;5;28;01mfor\u001b[39;00m name, element \u001b[38;5;129;01min\u001b[39;00m \u001b[38;5;28mself\u001b[39m\u001b[38;5;241m.\u001b[39m_children\u001b[38;5;241m.\u001b[39mitems():\n\u001b[1;32m--> 681\u001b[0m     \u001b[43melement\u001b[49m\u001b[38;5;241;43m.\u001b[39;49m\u001b[43mrender\u001b[49m\u001b[43m(\u001b[49m\u001b[38;5;241;43m*\u001b[39;49m\u001b[38;5;241;43m*\u001b[39;49m\u001b[43mkwargs\u001b[49m\u001b[43m)\u001b[49m\n",
      "File \u001b[1;32m~\\AppData\\Roaming\\Python\\Python312\\site-packages\\folium\\features.py:1188\u001b[0m, in \u001b[0;36mGeoJsonDetail.render\u001b[1;34m(self, **kwargs)\u001b[0m\n\u001b[0;32m   1186\u001b[0m keys \u001b[38;5;241m=\u001b[39m \u001b[38;5;28mtuple\u001b[39m(x \u001b[38;5;28;01mfor\u001b[39;00m x \u001b[38;5;129;01min\u001b[39;00m keys \u001b[38;5;28;01mif\u001b[39;00m x \u001b[38;5;129;01mnot\u001b[39;00m \u001b[38;5;129;01min\u001b[39;00m (\u001b[38;5;124m\"\u001b[39m\u001b[38;5;124mstyle\u001b[39m\u001b[38;5;124m\"\u001b[39m, \u001b[38;5;124m\"\u001b[39m\u001b[38;5;124mhighlight\u001b[39m\u001b[38;5;124m\"\u001b[39m))\n\u001b[0;32m   1187\u001b[0m \u001b[38;5;28;01mfor\u001b[39;00m value \u001b[38;5;129;01min\u001b[39;00m \u001b[38;5;28mself\u001b[39m\u001b[38;5;241m.\u001b[39mfields:\n\u001b[1;32m-> 1188\u001b[0m     \u001b[38;5;28;01massert\u001b[39;00m (\n\u001b[0;32m   1189\u001b[0m         value \u001b[38;5;129;01min\u001b[39;00m keys\n\u001b[0;32m   1190\u001b[0m     ), \u001b[38;5;124mf\u001b[39m\u001b[38;5;124m\"\u001b[39m\u001b[38;5;124mThe field \u001b[39m\u001b[38;5;132;01m{\u001b[39;00mvalue\u001b[38;5;132;01m}\u001b[39;00m\u001b[38;5;124m is not available in the data. Choose from: \u001b[39m\u001b[38;5;132;01m{\u001b[39;00mkeys\u001b[38;5;132;01m}\u001b[39;00m\u001b[38;5;124m.\u001b[39m\u001b[38;5;124m\"\u001b[39m\n\u001b[0;32m   1191\u001b[0m figure\u001b[38;5;241m.\u001b[39mheader\u001b[38;5;241m.\u001b[39madd_child(\n\u001b[0;32m   1192\u001b[0m     Element(\n\u001b[0;32m   1193\u001b[0m         Template(\n\u001b[1;32m   (...)\u001b[0m\n\u001b[0;32m   1212\u001b[0m     name\u001b[38;5;241m=\u001b[39m\u001b[38;5;28mself\u001b[39m\u001b[38;5;241m.\u001b[39mget_name() \u001b[38;5;241m+\u001b[39m \u001b[38;5;124m\"\u001b[39m\u001b[38;5;124mtablestyle\u001b[39m\u001b[38;5;124m\"\u001b[39m,\n\u001b[0;32m   1213\u001b[0m )\n\u001b[0;32m   1215\u001b[0m \u001b[38;5;28msuper\u001b[39m()\u001b[38;5;241m.\u001b[39mrender()\n",
      "\u001b[1;31mAssertionError\u001b[0m: The field 0 is not available in the data. Choose from: (0,)."
     ]
    },
    {
     "data": {
      "text/plain": [
       "<folium.folium.Map at 0x1ca95e0c260>"
      ]
     },
     "execution_count": 111,
     "metadata": {},
     "output_type": "execute_result"
    }
   ],
   "source": [
    "import h3\n",
    "import folium\n",
    "from shapely.geometry import Polygon\n",
    "\n",
    "# Example H3 index\n",
    "h3_index = '884b5a151dfffff'  # Replace with your H3 index\n",
    "\n",
    "# Convert H3 index to boundary coordinates and then to a Shapely Polygon\n",
    "h3_boundary = h3.h3_to_geo_boundary(h3_index, geo_json=True)\n",
    "polygon = Polygon(h3_boundary)\n",
    "\n",
    "# Create a GeoDataFrame\n",
    "gdf = gpd.GeoDataFrame([1], geometry=[polygon], crs=f.DENMARK_CRS)\n",
    "gdf.explore()"
   ]
  },
  {
   "cell_type": "code",
   "execution_count": 113,
   "metadata": {},
   "outputs": [
    {
     "data": {
      "text/html": [
       "<div>\n",
       "<style scoped>\n",
       "    .dataframe tbody tr th:only-of-type {\n",
       "        vertical-align: middle;\n",
       "    }\n",
       "\n",
       "    .dataframe tbody tr th {\n",
       "        vertical-align: top;\n",
       "    }\n",
       "\n",
       "    .dataframe thead th {\n",
       "        text-align: right;\n",
       "    }\n",
       "</style>\n",
       "<table border=\"1\" class=\"dataframe\">\n",
       "  <thead>\n",
       "    <tr style=\"text-align: right;\">\n",
       "      <th></th>\n",
       "      <th>0</th>\n",
       "      <th>geometry</th>\n",
       "    </tr>\n",
       "  </thead>\n",
       "  <tbody>\n",
       "    <tr>\n",
       "      <th>0</th>\n",
       "      <td>1</td>\n",
       "      <td>POLYGON ((133.888 27.499, 133.887 27.495, 133....</td>\n",
       "    </tr>\n",
       "  </tbody>\n",
       "</table>\n",
       "</div>"
      ],
      "text/plain": [
       "   0                                           geometry\n",
       "0  1  POLYGON ((133.888 27.499, 133.887 27.495, 133...."
      ]
     },
     "execution_count": 113,
     "metadata": {},
     "output_type": "execute_result"
    }
   ],
   "source": [
    "gdf"
   ]
  },
  {
   "cell_type": "code",
   "execution_count": 103,
   "metadata": {},
   "outputs": [
    {
     "data": {
      "text/html": [
       "<div>\n",
       "<style scoped>\n",
       "    .dataframe tbody tr th:only-of-type {\n",
       "        vertical-align: middle;\n",
       "    }\n",
       "\n",
       "    .dataframe tbody tr th {\n",
       "        vertical-align: top;\n",
       "    }\n",
       "\n",
       "    .dataframe thead th {\n",
       "        text-align: right;\n",
       "    }\n",
       "</style>\n",
       "<table border=\"1\" class=\"dataframe\">\n",
       "  <thead>\n",
       "    <tr style=\"text-align: right;\">\n",
       "      <th></th>\n",
       "      <th></th>\n",
       "      <th></th>\n",
       "      <th>geometry</th>\n",
       "      <th>h3_index</th>\n",
       "    </tr>\n",
       "    <tr>\n",
       "      <th>u</th>\n",
       "      <th>v</th>\n",
       "      <th>key</th>\n",
       "      <th></th>\n",
       "      <th></th>\n",
       "    </tr>\n",
       "  </thead>\n",
       "  <tbody>\n",
       "    <tr>\n",
       "      <th>676544</th>\n",
       "      <th>443246370</th>\n",
       "      <th>0</th>\n",
       "      <td>LINESTRING (704132.978 6138611.037, 704094.801...</td>\n",
       "      <td>884b5a151dfffff</td>\n",
       "    </tr>\n",
       "  </tbody>\n",
       "</table>\n",
       "</div>"
      ],
      "text/plain": [
       "                                                               geometry  \\\n",
       "u      v         key                                                      \n",
       "676544 443246370 0    LINESTRING (704132.978 6138611.037, 704094.801...   \n",
       "\n",
       "                             h3_index  \n",
       "u      v         key                   \n",
       "676544 443246370 0    884b5a151dfffff  "
      ]
     },
     "execution_count": 103,
     "metadata": {},
     "output_type": "execute_result"
    }
   ],
   "source": [
    "bikelane_all.head(1)"
   ]
  },
  {
   "cell_type": "code",
   "execution_count": 77,
   "metadata": {},
   "outputs": [
    {
     "name": "stdout",
     "output_type": "stream",
     "text": [
      "[ 441698.70518066 6072912.09409883  728400.29103142 6402147.68476988]\n",
      "                                            geometry\n",
      "0  POLYGON ((728400.291 6072912.094, 728400.291 6...\n"
     ]
    }
   ],
   "source": [
    "bounds = bikelane_all.geometry.total_bounds\n",
    "print(bounds)\n",
    "\n",
    "from shapely.geometry import box\n",
    "import geopandas as gpd\n",
    "\n",
    "# Create a Polygon from bounds\n",
    "bound_box = box(*bounds)\n",
    "\n",
    "# Convert to a GeoDataFrame\n",
    "gdf_bounds = gpd.GeoDataFrame(geometry=[bound_box], crs=bikelane_all.crs)\n",
    "\n",
    "print(gdf_bounds)\n",
    "\n",
    "# check these coordinates are inside the box \n",
    "\n"
   ]
  },
  {
   "cell_type": "code",
   "execution_count": 84,
   "metadata": {},
   "outputs": [
    {
     "data": {
      "text/html": [
       "<div style=\"width:100%;\"><div style=\"position:relative;width:100%;height:0;padding-bottom:60%;\"><span style=\"color:#565656\">Make this Notebook Trusted to load map: File -> Trust Notebook</span><iframe srcdoc=\"&lt;!DOCTYPE html&gt;\n",
       "&lt;html&gt;\n",
       "&lt;head&gt;\n",
       "    \n",
       "    &lt;meta http-equiv=&quot;content-type&quot; content=&quot;text/html; charset=UTF-8&quot; /&gt;\n",
       "    \n",
       "        &lt;script&gt;\n",
       "            L_NO_TOUCH = false;\n",
       "            L_DISABLE_3D = false;\n",
       "        &lt;/script&gt;\n",
       "    \n",
       "    &lt;style&gt;html, body {width: 100%;height: 100%;margin: 0;padding: 0;}&lt;/style&gt;\n",
       "    &lt;style&gt;#map {position:absolute;top:0;bottom:0;right:0;left:0;}&lt;/style&gt;\n",
       "    &lt;script src=&quot;https://cdn.jsdelivr.net/npm/leaflet@1.9.3/dist/leaflet.js&quot;&gt;&lt;/script&gt;\n",
       "    &lt;script src=&quot;https://code.jquery.com/jquery-3.7.1.min.js&quot;&gt;&lt;/script&gt;\n",
       "    &lt;script src=&quot;https://cdn.jsdelivr.net/npm/bootstrap@5.2.2/dist/js/bootstrap.bundle.min.js&quot;&gt;&lt;/script&gt;\n",
       "    &lt;script src=&quot;https://cdnjs.cloudflare.com/ajax/libs/Leaflet.awesome-markers/2.0.2/leaflet.awesome-markers.js&quot;&gt;&lt;/script&gt;\n",
       "    &lt;link rel=&quot;stylesheet&quot; href=&quot;https://cdn.jsdelivr.net/npm/leaflet@1.9.3/dist/leaflet.css&quot;/&gt;\n",
       "    &lt;link rel=&quot;stylesheet&quot; href=&quot;https://cdn.jsdelivr.net/npm/bootstrap@5.2.2/dist/css/bootstrap.min.css&quot;/&gt;\n",
       "    &lt;link rel=&quot;stylesheet&quot; href=&quot;https://netdna.bootstrapcdn.com/bootstrap/3.0.0/css/bootstrap.min.css&quot;/&gt;\n",
       "    &lt;link rel=&quot;stylesheet&quot; href=&quot;https://cdn.jsdelivr.net/npm/@fortawesome/fontawesome-free@6.2.0/css/all.min.css&quot;/&gt;\n",
       "    &lt;link rel=&quot;stylesheet&quot; href=&quot;https://cdnjs.cloudflare.com/ajax/libs/Leaflet.awesome-markers/2.0.2/leaflet.awesome-markers.css&quot;/&gt;\n",
       "    &lt;link rel=&quot;stylesheet&quot; href=&quot;https://cdn.jsdelivr.net/gh/python-visualization/folium/folium/templates/leaflet.awesome.rotate.min.css&quot;/&gt;\n",
       "    \n",
       "            &lt;meta name=&quot;viewport&quot; content=&quot;width=device-width,\n",
       "                initial-scale=1.0, maximum-scale=1.0, user-scalable=no&quot; /&gt;\n",
       "            &lt;style&gt;\n",
       "                #map_486d6198e625413672813372877d9dc5 {\n",
       "                    position: relative;\n",
       "                    width: 100.0%;\n",
       "                    height: 100.0%;\n",
       "                    left: 0.0%;\n",
       "                    top: 0.0%;\n",
       "                }\n",
       "                .leaflet-container { font-size: 1rem; }\n",
       "            &lt;/style&gt;\n",
       "        \n",
       "    \n",
       "                    &lt;style&gt;\n",
       "                        .foliumtooltip {\n",
       "                            \n",
       "                        }\n",
       "                       .foliumtooltip table{\n",
       "                            margin: auto;\n",
       "                        }\n",
       "                        .foliumtooltip tr{\n",
       "                            text-align: left;\n",
       "                        }\n",
       "                        .foliumtooltip th{\n",
       "                            padding: 2px; padding-right: 8px;\n",
       "                        }\n",
       "                    &lt;/style&gt;\n",
       "            \n",
       "&lt;/head&gt;\n",
       "&lt;body&gt;\n",
       "    \n",
       "    \n",
       "            &lt;div class=&quot;folium-map&quot; id=&quot;map_486d6198e625413672813372877d9dc5&quot; &gt;&lt;/div&gt;\n",
       "        \n",
       "&lt;/body&gt;\n",
       "&lt;script&gt;\n",
       "    \n",
       "    \n",
       "            var map_486d6198e625413672813372877d9dc5 = L.map(\n",
       "                &quot;map_486d6198e625413672813372877d9dc5&quot;,\n",
       "                {\n",
       "                    center: [56.25452735130238, 10.426941999728987],\n",
       "                    crs: L.CRS.EPSG3857,\n",
       "                    zoom: 10,\n",
       "                    zoomControl: true,\n",
       "                    preferCanvas: false,\n",
       "                }\n",
       "            );\n",
       "            L.control.scale().addTo(map_486d6198e625413672813372877d9dc5);\n",
       "\n",
       "            \n",
       "\n",
       "        \n",
       "    \n",
       "            var tile_layer_647854b86baff3ad7cbb9b8821ae9d4f = L.tileLayer(\n",
       "                &quot;https://tile.openstreetmap.org/{z}/{x}/{y}.png&quot;,\n",
       "                {&quot;attribution&quot;: &quot;\\u0026copy; \\u003ca href=\\&quot;https://www.openstreetmap.org/copyright\\&quot;\\u003eOpenStreetMap\\u003c/a\\u003e contributors&quot;, &quot;detectRetina&quot;: false, &quot;maxNativeZoom&quot;: 19, &quot;maxZoom&quot;: 19, &quot;minZoom&quot;: 0, &quot;noWrap&quot;: false, &quot;opacity&quot;: 1, &quot;subdomains&quot;: &quot;abc&quot;, &quot;tms&quot;: false}\n",
       "            );\n",
       "        \n",
       "    \n",
       "            tile_layer_647854b86baff3ad7cbb9b8821ae9d4f.addTo(map_486d6198e625413672813372877d9dc5);\n",
       "        \n",
       "    \n",
       "            map_486d6198e625413672813372877d9dc5.fitBounds(\n",
       "                [[54.751431968803296, 8.020258768489475], [57.75762273380146, 12.833625230968499]],\n",
       "                {}\n",
       "            );\n",
       "        \n",
       "    \n",
       "        function geo_json_41654a66ebcf76558b73bda361fb9aa3_styler(feature) {\n",
       "            switch(feature.id) {\n",
       "                default:\n",
       "                    return {&quot;fillOpacity&quot;: 0.5, &quot;weight&quot;: 2};\n",
       "            }\n",
       "        }\n",
       "        function geo_json_41654a66ebcf76558b73bda361fb9aa3_highlighter(feature) {\n",
       "            switch(feature.id) {\n",
       "                default:\n",
       "                    return {&quot;fillOpacity&quot;: 0.75};\n",
       "            }\n",
       "        }\n",
       "        function geo_json_41654a66ebcf76558b73bda361fb9aa3_pointToLayer(feature, latlng) {\n",
       "            var opts = {&quot;bubblingMouseEvents&quot;: true, &quot;color&quot;: &quot;#3388ff&quot;, &quot;dashArray&quot;: null, &quot;dashOffset&quot;: null, &quot;fill&quot;: true, &quot;fillColor&quot;: &quot;#3388ff&quot;, &quot;fillOpacity&quot;: 0.2, &quot;fillRule&quot;: &quot;evenodd&quot;, &quot;lineCap&quot;: &quot;round&quot;, &quot;lineJoin&quot;: &quot;round&quot;, &quot;opacity&quot;: 1.0, &quot;radius&quot;: 2, &quot;stroke&quot;: true, &quot;weight&quot;: 3};\n",
       "            \n",
       "            let style = geo_json_41654a66ebcf76558b73bda361fb9aa3_styler(feature)\n",
       "            Object.assign(opts, style)\n",
       "            \n",
       "            return new L.CircleMarker(latlng, opts)\n",
       "        }\n",
       "\n",
       "        function geo_json_41654a66ebcf76558b73bda361fb9aa3_onEachFeature(feature, layer) {\n",
       "            layer.on({\n",
       "                mouseout: function(e) {\n",
       "                    if(typeof e.target.setStyle === &quot;function&quot;){\n",
       "                            geo_json_41654a66ebcf76558b73bda361fb9aa3.resetStyle(e.target);\n",
       "                    }\n",
       "                },\n",
       "                mouseover: function(e) {\n",
       "                    if(typeof e.target.setStyle === &quot;function&quot;){\n",
       "                        const highlightStyle = geo_json_41654a66ebcf76558b73bda361fb9aa3_highlighter(e.target.feature)\n",
       "                        e.target.setStyle(highlightStyle);\n",
       "                    }\n",
       "                },\n",
       "            });\n",
       "        };\n",
       "        var geo_json_41654a66ebcf76558b73bda361fb9aa3 = L.geoJson(null, {\n",
       "                onEachFeature: geo_json_41654a66ebcf76558b73bda361fb9aa3_onEachFeature,\n",
       "            \n",
       "                style: geo_json_41654a66ebcf76558b73bda361fb9aa3_styler,\n",
       "                pointToLayer: geo_json_41654a66ebcf76558b73bda361fb9aa3_pointToLayer,\n",
       "        });\n",
       "\n",
       "        function geo_json_41654a66ebcf76558b73bda361fb9aa3_add (data) {\n",
       "            geo_json_41654a66ebcf76558b73bda361fb9aa3\n",
       "                .addData(data);\n",
       "        }\n",
       "            geo_json_41654a66ebcf76558b73bda361fb9aa3_add({&quot;bbox&quot;: [8.020258768489475, 54.751431968803296, 12.833625230968499, 57.75762273380146], &quot;features&quot;: [{&quot;bbox&quot;: [8.020258768489475, 54.751431968803296, 12.833625230968499, 57.75762273380146], &quot;geometry&quot;: {&quot;coordinates&quot;: [[[12.549363765852252, 54.751431968803296], [12.833625230968499, 57.70335879673832], [8.020258768489475, 57.75762273380146], [8.0930871112015, 54.799991456869805], [12.549363765852252, 54.751431968803296]]], &quot;type&quot;: &quot;Polygon&quot;}, &quot;id&quot;: &quot;0&quot;, &quot;properties&quot;: {}, &quot;type&quot;: &quot;Feature&quot;}], &quot;type&quot;: &quot;FeatureCollection&quot;});\n",
       "\n",
       "        \n",
       "    \n",
       "    geo_json_41654a66ebcf76558b73bda361fb9aa3.bindTooltip(\n",
       "    function(layer){\n",
       "    let div = L.DomUtil.create(&#x27;div&#x27;);\n",
       "    \n",
       "    return div\n",
       "    }\n",
       "    ,{&quot;className&quot;: &quot;foliumtooltip&quot;, &quot;sticky&quot;: true});\n",
       "                     \n",
       "    \n",
       "            geo_json_41654a66ebcf76558b73bda361fb9aa3.addTo(map_486d6198e625413672813372877d9dc5);\n",
       "        \n",
       "&lt;/script&gt;\n",
       "&lt;/html&gt;\" style=\"position:absolute;width:100%;height:100%;left:0;top:0;border:none !important;\" allowfullscreen webkitallowfullscreen mozallowfullscreen></iframe></div></div>"
      ],
      "text/plain": [
       "<folium.folium.Map at 0x1ca95e01df0>"
      ]
     },
     "execution_count": 84,
     "metadata": {},
     "output_type": "execute_result"
    }
   ],
   "source": [
    "gdf_bounds.explore()"
   ]
  },
  {
   "cell_type": "code",
   "execution_count": 78,
   "metadata": {},
   "outputs": [
    {
     "name": "stdout",
     "output_type": "stream",
     "text": [
      "0     True\n",
      "1    False\n",
      "dtype: bool\n"
     ]
    },
    {
     "name": "stderr",
     "output_type": "stream",
     "text": [
      "C:\\Users\\Gergo Gyori\\AppData\\Local\\Temp\\ipykernel_8216\\2082974034.py:7: UserWarning: The indices of the two GeoSeries are different.\n",
      "  contains_points = gdf_bounds.geometry.contains(points)\n"
     ]
    }
   ],
   "source": [
    "from shapely.geometry import Point\n",
    "\n",
    "# Convert coordinates to Point geometries\n",
    "points = gpd.GeoSeries([Point(xy) for xy in coordinates2], crs=bikelane_all.crs)\n",
    "\n",
    "# Check if the bounding box contains these points\n",
    "contains_points = gdf_bounds.geometry.contains(points)\n",
    "\n",
    "print(contains_points)"
   ]
  },
  {
   "cell_type": "code",
   "execution_count": 79,
   "metadata": {},
   "outputs": [
    {
     "data": {
      "text/plain": [
       "[(669963.1858043118, 6156595.619894134), (666199.299537813, 6155152.20113962)]"
      ]
     },
     "execution_count": 79,
     "metadata": {},
     "output_type": "execute_result"
    }
   ],
   "source": [
    "coordinates2"
   ]
  }
 ],
 "metadata": {
  "kernelspec": {
   "display_name": "Python 3",
   "language": "python",
   "name": "python3"
  },
  "language_info": {
   "codemirror_mode": {
    "name": "ipython",
    "version": 3
   },
   "file_extension": ".py",
   "mimetype": "text/x-python",
   "name": "python",
   "nbconvert_exporter": "python",
   "pygments_lexer": "ipython3",
   "version": "3.12.1"
  }
 },
 "nbformat": 4,
 "nbformat_minor": 2
}
