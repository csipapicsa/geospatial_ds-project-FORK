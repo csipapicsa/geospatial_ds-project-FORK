{
 "cells": [
  {
   "cell_type": "code",
   "execution_count": 2,
   "metadata": {},
   "outputs": [
    {
     "data": {
      "text/plain": [
       "<module 'functions' from 'd:\\\\ITU\\\\Geospatial Data Science\\\\PROJECT\\\\functions.py'>"
      ]
     },
     "execution_count": 2,
     "metadata": {},
     "output_type": "execute_result"
    }
   ],
   "source": [
    "import streamlit_functions as sf\n",
    "import importlib as imp\n",
    "import geopandas as gpd\n",
    "import matplotlib.pyplot as plt\n",
    "import functions as f\n",
    "# debugging\n",
    "import importlib as imp\n",
    "imp.reload(f)\n",
    "\n",
    "# graph\n",
    "import networkx as nx"
   ]
  },
  {
   "cell_type": "code",
   "execution_count": 3,
   "metadata": {},
   "outputs": [],
   "source": [
    "bikelane_all = gpd.read_parquet('dataset/raw_unprocessed/bikelane_dk_crs_25832.parquet')"
   ]
  },
  {
   "cell_type": "code",
   "execution_count": 44,
   "metadata": {},
   "outputs": [],
   "source": [
    "G_edges = nx.Graph()\n",
    "\n",
    "for row in bikelane_all.itertuples():\n",
    "    # Access the MultiIndex values (u, v, key) from the Index\n",
    "    u, v, _ = row.Index\n",
    "\n",
    "    # Add nodes\n",
    "    G_edges.add_node(u)\n",
    "    G_edges.add_node(v)\n",
    "\n",
    "    # Add edge\n",
    "    G_edges.add_edge(u, v)\n"
   ]
  },
  {
   "cell_type": "code",
   "execution_count": 45,
   "metadata": {},
   "outputs": [],
   "source": [
    "# Write to GraphML\n",
    "nx.write_graphml(G_edges, 'graph.graphml')"
   ]
  },
  {
   "cell_type": "code",
   "execution_count": 6,
   "metadata": {},
   "outputs": [],
   "source": [
    "coordinates1 = [(669963.1858043118, 6156595.619894134), (666199.299537813, 6155152.20113962)] # somewhere\n",
    "coordinates2 = [(719420.4753819183, 6177679.685542446), (720676.1469959107, 6176793.722376416)] # in Copenhagen\n",
    "coordinates3 = [(716235.4790146917, 6208167.005935997), (693675.6526506029, 6101757.298274318)] # big distance"
   ]
  },
  {
   "cell_type": "markdown",
   "metadata": {},
   "source": [
    "### Without indexing the below code is super slow since it loops through the whole database to find the closest bikelane"
   ]
  },
  {
   "cell_type": "code",
   "execution_count": 42,
   "metadata": {},
   "outputs": [
    {
     "name": "stdout",
     "output_type": "stream",
     "text": [
      "findd closest linestring start\n",
      "closest_lines are:\n",
      "LINESTRING (719397.7148862425 6177829.284857129, 719405.0846778937 6177801.8819245845, 719421.6396323182 6177740.2992502665, 719423.9498579694 6177731.696480225, 719435.0308848498 6177689.015741999, 719444.0791641185 6177654.18242757, 719440.0535103269 6177646.34183948)\n",
      "LINESTRING (720712.8564264507 6176820.9603884565, 720641.195113393 6176788.851636762)\n",
      "findd closest linestring end\n",
      "nearest_points end\n"
     ]
    },
    {
     "data": {
      "text/plain": [
       "\"G = nx.Graph()\\nfor index, row in bikelane_all.iterrows():\\n    p1, p2 = row['geometry'].boundary\\n    G.add_edge(p1.coords[0], p2.coords[0], weight=row['geometry'].length)\\n\\n# Find shortest path\\npath = nx.shortest_path(G, source=start_node.coords[0], target=end_node.coords[0], weight='weight')\\n\\n# Convert path to LineString\\npath_linestring = LineString(path)\\n\\n# Convert LineString to GeoDataFrame for visualization\\npath_gdf = gpd.GeoDataFrame(geometry=[path_linestring], crs=bikelane_all.crs)\""
      ]
     },
     "execution_count": 42,
     "metadata": {},
     "output_type": "execute_result"
    }
   ],
   "source": [
    "import geopandas as gpd\n",
    "import networkx as nx\n",
    "from shapely.geometry import Point, LineString\n",
    "from shapely.ops import nearest_points\n",
    "\n",
    "# Assuming 'bikelane_all' is your GeoDataFrame of bike lanes\n",
    "# and 'coordinates2' are your start and end points\n",
    "\n",
    "# Convert points to Shapely Points\n",
    "start_point = Point(coordinates2[0])\n",
    "end_point = Point(coordinates2[1])\n",
    "\n",
    "# Function to find the closest LineString to a point\n",
    "print(\"findd closest linestring start\")\n",
    "def find_closest_linestring(point, gdf):\n",
    "    min_dist = float('inf')\n",
    "    closest_line = None\n",
    "    for line in gdf.geometry:\n",
    "        dist = point.distance(line)\n",
    "        if dist < min_dist:\n",
    "            min_dist = dist\n",
    "            closest_line = line\n",
    "    return closest_line\n",
    "\n",
    "# Find closest LineStrings to start and end points\n",
    "closest_line_start = find_closest_linestring(start_point, bikelane_all)\n",
    "closest_line_end = find_closest_linestring(end_point, bikelane_all)\n",
    "print(\"closest_lines are:\")\n",
    "print(closest_line_start)\n",
    "print(closest_line_end)\n",
    "\n",
    "print(\"findd closest linestring end\")\n",
    "# Find closest nodes to start and end points\n",
    "start_node, _ = nearest_points(start_point, closest_line_start)\n",
    "end_node, _ = nearest_points(end_point, closest_line_end)\n",
    "print(\"nearest_points end\")\n",
    "# Convert bike lanes network to a graph\n",
    "\n",
    "\"\"\"G = nx.Graph()\n",
    "for index, row in bikelane_all.iterrows():\n",
    "    p1, p2 = row['geometry'].boundary\n",
    "    G.add_edge(p1.coords[0], p2.coords[0], weight=row['geometry'].length)\n",
    "\n",
    "# Find shortest path\n",
    "path = nx.shortest_path(G, source=start_node.coords[0], target=end_node.coords[0], weight='weight')\n",
    "\n",
    "# Convert path to LineString\n",
    "path_linestring = LineString(path)\n",
    "\n",
    "# Convert LineString to GeoDataFrame for visualization\n",
    "path_gdf = gpd.GeoDataFrame(geometry=[path_linestring], crs=bikelane_all.crs)\"\"\""
   ]
  }
 ],
 "metadata": {
  "kernelspec": {
   "display_name": "Python 3",
   "language": "python",
   "name": "python3"
  },
  "language_info": {
   "codemirror_mode": {
    "name": "ipython",
    "version": 3
   },
   "file_extension": ".py",
   "mimetype": "text/x-python",
   "name": "python",
   "nbconvert_exporter": "python",
   "pygments_lexer": "ipython3",
   "version": "3.12.1"
  }
 },
 "nbformat": 4,
 "nbformat_minor": 2
}
